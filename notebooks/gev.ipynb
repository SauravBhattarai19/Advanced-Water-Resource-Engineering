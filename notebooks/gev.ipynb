{
 "cells": [
  {
   "cell_type": "markdown",
   "metadata": {},
   "source": [
    "# 🌊 GEV Analysis: Better than Gumbel!\n",
    "\n",
    "## Simple Tutorial for Water Resources Students\n",
    "\n",
    "---\n",
    "\n",
    "**Course:** Advanced Water Resources Engineering  \n",
    "**Instructor:** Dr. Rocky Talchabhadel  \n",
    "**TA:** Saurav Bhattarai  \n",
    "**Institution:** Jackson State University  \n",
    "\n",
    "---\n",
    "\n",
    "## 🎯 What You'll Learn (Simple!)\n",
    "\n",
    "1. **GEV = Gumbel + Flexibility** 🔧\n",
    "2. **One shape parameter controls everything** 🎛️\n",
    "3. **Three types: Heavy, Medium, Light tails** 📊\n",
    "4. **When to use GEV vs Gumbel** 🤔\n",
    "5. **Calculate design events with Python** 💻\n",
    "\n",
    "**Time needed:** ~1 hour  \n",
    "**Difficulty:** Intermediate  \n",
    "**Prerequisites:** Basic understanding of Gumbel distribution  \n",
    "\n",
    "Let's make extreme value analysis simple! 🚀"
   ]
  },
  {
   "cell_type": "markdown",
   "metadata": {},
   "source": [
    "---\n",
    "\n",
    "# 🔧 Setup (Run This First!)"
   ]
  },
  {
   "cell_type": "code",
   "execution_count": null,
   "metadata": {},
   "outputs": [],
   "source": [
    "# Install packages if needed (uncomment if required)\n",
    "# !pip install numpy pandas matplotlib plotly scipy\n",
    "\n",
    "# Import everything we need\n",
    "import numpy as np              # Numbers and calculations\n",
    "import pandas as pd             # Data tables (like Excel)\n",
    "import matplotlib.pyplot as plt # Basic plots\n",
    "import plotly.express as px    # Interactive plots\n",
    "import plotly.graph_objects as go # Advanced interactive plots\n",
    "import scipy.stats as stats    # Statistical distributions\n",
    "\n",
    "# Make plots look nice\n",
    "import warnings\n",
    "warnings.filterwarnings('ignore')  # Hide technical warnings\n",
    "\n",
    "print(\"✅ Ready to go! All libraries loaded.\")\n",
    "print(\"🎯 Let's learn GEV analysis!\")"
   ]
  },
  {
   "cell_type": "markdown",
   "metadata": {},
   "source": [
    "---\n",
    "\n",
    "# 📊 Part 1: Create Sample Data\n",
    "\n",
    "First, let's create some **realistic flood data** to work with. In real life, you'd load this from an Excel file."
   ]
  },
  {
   "cell_type": "code",
   "execution_count": 16,
   "metadata": {},
   "outputs": [
    {
     "name": "stdout",
     "output_type": "stream",
     "text": [
      "📊 Created 50 years of flood data\n",
      "🌊 Flow range: 117 - 634 m³/s\n",
      "📈 Average: 284 m³/s\n",
      "\n",
      "📋 Sample data:\n"
     ]
    },
    {
     "data": {
      "text/html": [
       "<div>\n",
       "<style scoped>\n",
       "    .dataframe tbody tr th:only-of-type {\n",
       "        vertical-align: middle;\n",
       "    }\n",
       "\n",
       "    .dataframe tbody tr th {\n",
       "        vertical-align: top;\n",
       "    }\n",
       "\n",
       "    .dataframe thead th {\n",
       "        text-align: right;\n",
       "    }\n",
       "</style>\n",
       "<table border=\"1\" class=\"dataframe\">\n",
       "  <thead>\n",
       "    <tr style=\"text-align: right;\">\n",
       "      <th></th>\n",
       "      <th>Year</th>\n",
       "      <th>Peak_Flow</th>\n",
       "    </tr>\n",
       "  </thead>\n",
       "  <tbody>\n",
       "    <tr>\n",
       "      <th>0</th>\n",
       "      <td>1974</td>\n",
       "      <td>334</td>\n",
       "    </tr>\n",
       "    <tr>\n",
       "      <th>1</th>\n",
       "      <td>1975</td>\n",
       "      <td>203</td>\n",
       "    </tr>\n",
       "    <tr>\n",
       "      <th>2</th>\n",
       "      <td>1976</td>\n",
       "      <td>197</td>\n",
       "    </tr>\n",
       "    <tr>\n",
       "      <th>3</th>\n",
       "      <td>1977</td>\n",
       "      <td>183</td>\n",
       "    </tr>\n",
       "    <tr>\n",
       "      <th>4</th>\n",
       "      <td>1978</td>\n",
       "      <td>567</td>\n",
       "    </tr>\n",
       "    <tr>\n",
       "      <th>5</th>\n",
       "      <td>1979</td>\n",
       "      <td>255</td>\n",
       "    </tr>\n",
       "    <tr>\n",
       "      <th>6</th>\n",
       "      <td>1980</td>\n",
       "      <td>217</td>\n",
       "    </tr>\n",
       "    <tr>\n",
       "      <th>7</th>\n",
       "      <td>1981</td>\n",
       "      <td>335</td>\n",
       "    </tr>\n",
       "  </tbody>\n",
       "</table>\n",
       "</div>"
      ],
      "text/plain": [
       "   Year  Peak_Flow\n",
       "0  1974        334\n",
       "1  1975        203\n",
       "2  1976        197\n",
       "3  1977        183\n",
       "4  1978        567\n",
       "5  1979        255\n",
       "6  1980        217\n",
       "7  1981        335"
      ]
     },
     "execution_count": 16,
     "metadata": {},
     "output_type": "execute_result"
    }
   ],
   "source": [
    "# Create 50 years of flood data (like real engineering projects)\n",
    "np.random.seed(42)  # Makes results repeatable\n",
    "\n",
    "# Years from 1974 to 2023\n",
    "years = list(range(1974, 2024))\n",
    "\n",
    "# Realistic flood flows (m³/s) - based on real patterns\n",
    "flood_flows = [\n",
    "    334, 203, 197, 183, 567, 255, 217, 335, 285, 292, 173, 229, \n",
    "    288, 349, 386, 348, 229, 367, 309, 160, 277, 257, 244, 238, \n",
    "    238, 356, 345, 117, 179, 409, 251, 251, 328, 204, 248, 230, \n",
    "    220, 304, 189, 634, 331, 275, 475, 284, 190, 469, 222, 327, 251, 147\n",
    "]\n",
    "\n",
    "# Create data table\n",
    "flood_data = pd.DataFrame({\n",
    "    'Year': years,\n",
    "    'Peak_Flow': flood_flows\n",
    "})\n",
    "\n",
    "print(f\"📊 Created {len(flood_data)} years of flood data\")\n",
    "print(f\"🌊 Flow range: {min(flood_flows):.0f} - {max(flood_flows):.0f} m³/s\")\n",
    "print(f\"📈 Average: {np.mean(flood_flows):.0f} m³/s\")\n",
    "\n",
    "# Show first few rows\n",
    "print(\"\\n📋 Sample data:\")\n",
    "flood_data.head(8)"
   ]
  },
  {
   "cell_type": "markdown",
   "metadata": {},
   "source": [
    "## 👀 Quick Look at Our Data"
   ]
  },
  {
   "cell_type": "code",
   "execution_count": 17,
   "metadata": {},
   "outputs": [
    {
     "data": {
      "image/png": "[encoded data removed]",
      "text/plain": [
       "<Figure size 1400x500 with 2 Axes>"
      ]
     },
     "metadata": {},
     "output_type": "display_data"
    },
    {
     "name": "stdout",
     "output_type": "stream",
     "text": [
      "📊 Skewness: 1.32\n",
      "✅ Right-skewed data - perfect for GEV analysis!\n"
     ]
    }
   ],
   "source": [
    "# Simple plot to see our data\n",
    "fig, (ax1, ax2) = plt.subplots(1, 2, figsize=(14, 5))\n",
    "\n",
    "# Time series\n",
    "ax1.plot(flood_data['Year'], flood_data['Peak_Flow'], 'o-', linewidth=2, markersize=6, color='steelblue')\n",
    "ax1.set_title('🌊 Floods Over Time', fontsize=14, fontweight='bold')\n",
    "ax1.set_xlabel('Year')\n",
    "ax1.set_ylabel('Peak Flow (m³/s)')\n",
    "ax1.grid(True, alpha=0.3)\n",
    "\n",
    "# Histogram\n",
    "ax2.hist(flood_flows, bins=12, alpha=0.7, color='lightcoral', edgecolor='black')\n",
    "ax2.set_title('📊 Distribution Shape', fontsize=14, fontweight='bold')\n",
    "ax2.set_xlabel('Peak Flow (m³/s)')\n",
    "ax2.set_ylabel('Frequency')\n",
    "ax2.grid(True, alpha=0.3)\n",
    "\n",
    "plt.tight_layout()\n",
    "plt.show()\n",
    "\n",
    "# Quick stats\n",
    "skewness = stats.skew(flood_flows)\n",
    "print(f\"📊 Skewness: {skewness:.2f}\")\n",
    "if skewness > 0.5:\n",
    "    print(\"✅ Right-skewed data - perfect for GEV analysis!\")\n",
    "else:\n",
    "    print(\"📊 Data is fairly symmetric\")"
   ]
  },
  {
   "cell_type": "markdown",
   "metadata": {},
   "source": [
    "---\n",
    "\n",
    "# 🎯 Part 2: The Key Concept - Shape Parameter\n",
    "\n",
    "## The Shape Parameter (ξ) Controls Everything!\n",
    "\n",
    "**Simple rule:**\n",
    "- **ξ > 0** 🔴 Heavy tail (extreme events more likely)\n",
    "- **ξ = 0** 🔵 Medium tail (standard Gumbel)\n",
    "- **ξ < 0** 🟢 Light tail (extreme events limited)\n",
    "\n",
    "Let's see this in action!"
   ]
  },
  {
   "cell_type": "code",
   "execution_count": 18,
   "metadata": {},
   "outputs": [
    {
     "data": {
      "application/vnd.plotly.v1+json": {
       "config": {
        "plotlyServerURL": "https://plot.ly"
       },
       "data": [
        {
         "line": {
          "color": "red",
          "width": 4
         },
         "mode": "lines",
         "name": "🔴 Fréchet (Heavy) (ξ=+0.3)",
         "type": "scatter",
         "x": [
          0,
          0.07537688442211055,
          0.1507537688442211,
          0.22613065326633164,
          0.3015075376884422,
          0.37688442211055273,
          0.4522613065326633,
          0.5276381909547738,
          0.6030150753768844,
          0.6783919597989949,
          0.7537688442211055,
          0.829145728643216,
          0.9045226130653266,
          0.9798994974874371,
          1.0552763819095476,
          1.1306532663316582,
          1.2060301507537687,
          1.2814070351758793,
          1.3567839195979898,
          1.4321608040201004,
          1.507537688442211,
          1.5829145728643215,
          1.658291457286432,
          1.7336683417085426,
          1.809045226130653,
          1.8844221105527637,
          1.9597989949748742,
          2.0351758793969847,
          2.1105527638190953,
          2.185929648241206,
          2.2613065326633164,
          2.336683417085427,
          2.4120603015075375,
          2.487437185929648,
          2.5628140703517586,
          2.638190954773869,
          2.7135678391959797,
          2.78894472361809,
          2.8643216080402008,
          2.9396984924623113,
          3.015075376884422,
          3.0904522613065324,
          3.165829145728643,
          3.2412060301507535,
          3.316582914572864,
          3.3919597989949746,
          3.467336683417085,
          3.5427135678391957,
          3.618090452261306,
          3.6934673366834168,
          3.7688442211055273,
          3.844221105527638,
          3.9195979899497484,
          3.994974874371859,
          4.0703517587939695,
          4.14572864321608,
          4.221105527638191,
          4.296482412060302,
          4.371859296482412,
          4.447236180904522,
          4.522613065326633,
          4.597989949748744,
          4.673366834170854,
          4.748743718592964,
          4.824120603015075,
          4.899497487437186,
          4.974874371859296,
          5.050251256281406,
          5.125628140703517,
          5.201005025125628,
          5.276381909547738,
          5.351758793969848,
          5.427135678391959,
          5.50251256281407,
          5.57788944723618,
          5.6532663316582905,
          5.7286432160804015,
          5.8040201005025125,
          5.879396984924623,
          5.954773869346733,
          6.030150753768844,
          6.105527638190955,
          6.180904522613065,
          6.256281407035175,
          6.331658291457286,
          6.407035175879397,
          6.482412060301507,
          6.557788944723617,
          6.633165829145728,
          6.708542713567839,
          6.783919597989949,
          6.859296482412059,
          6.93467336683417,
          7.010050251256281,
          7.085427135678391,
          7.160804020100501,
          7.236180904522612,
          7.311557788944723,
          7.3869346733668335,
          7.462311557788944,
          7.537688442211055,
          7.613065326633166,
          7.688442211055276,
          7.763819095477386,
          7.839195979899497,
          7.914572864321608,
          7.989949748743718,
          8.065326633165828,
          8.140703517587939,
          8.21608040201005,
          8.29145728643216,
          8.36683417085427,
          8.442211055276381,
          8.517587939698492,
          8.592964824120603,
          8.668341708542712,
          8.743718592964823,
          8.819095477386934,
          8.894472361809044,
          8.969849246231155,
          9.045226130653266,
          9.120603015075377,
          9.195979899497488,
          9.271356783919597,
          9.346733668341708,
          9.422110552763819,
          9.497487437185928,
          9.572864321608039,
          9.64824120603015,
          9.72361809045226,
          9.798994974874372,
          9.874371859296481,
          9.949748743718592,
          10.025125628140703,
          10.100502512562812,
          10.175879396984923,
          10.251256281407034,
          10.326633165829145,
          10.402010050251256,
          10.477386934673365,
          10.552763819095476,
          10.628140703517587,
          10.703517587939697,
          10.778894472361808,
          10.854271356783919,
          10.92964824120603,
          11.00502512562814,
          11.08040201005025,
          11.15577889447236,
          11.231155778894472,
          11.306532663316581,
          11.381909547738692,
          11.457286432160803,
          11.532663316582914,
          11.608040201005025,
          11.683417085427134,
          11.758793969849245,
          11.834170854271356,
          11.909547738693465,
          11.984924623115576,
          12.060301507537687,
          12.135678391959798,
          12.21105527638191,
          12.286432160804019,
          12.36180904522613,
          12.43718592964824,
          12.51256281407035,
          12.58793969849246,
          12.663316582914572,
          12.738693467336683,
          12.814070351758794,
          12.889447236180903,
          12.964824120603014,
          13.040201005025125,
          13.115577889447234,
          13.190954773869345,
          13.266331658291456,
          13.341708542713567,
          13.417085427135678,
          13.492462311557787,
          13.567839195979898,
          13.64321608040201,
          13.718592964824118,
          13.79396984924623,
          13.86934673366834,
          13.944723618090451,
          14.020100502512562,
          14.095477386934672,
          14.170854271356783,
          14.246231155778894,
          14.321608040201003,
          14.396984924623114,
          14.472361809045225,
          14.547738693467336,
          14.623115577889447,
          14.698492462311556,
          14.773869346733667,
          14.849246231155778,
          14.924623115577887,
          15
         ],
         "y": [
          1.5357747304062086e-42,
          1.4180202075387619e-36,
          1.217586042064269e-31,
          1.5745348081585199e-27,
          4.440928749998052e-24,
          3.641837122585951e-21,
          1.087842974631614e-18,
          1.4145776067573716e-16,
          9.231022222697465e-15,
          3.3889859554431115e-13,
          7.678467228925223e-12,
          1.1577756233560278e-10,
          1.2359330876466025e-9,
          9.830280984312438e-9,
          6.0777740350085e-8,
          3.02613356576577e-7,
          0.0000012498942434970043,
          0.000004390842577584286,
          0.00001339958353471375,
          0.00003616630185158571,
          0.00008766812357944163,
          0.00019337675196139022,
          0.0003925468121271979,
          0.0007405076358180667,
          0.001309109325657785,
          0.002184769700668602,
          0.00346404443528756,
          0.005247150534548749,
          0.007630269920095678,
          0.010697655848942294,
          0.014514541917219594,
          0.019121652906381844,
          0.02453181267787656,
          0.03072881515488764,
          0.037668433034751155,
          0.04528122344223769,
          0.05347666377820179,
          0.06214810895078243,
          0.07117808584075158,
          0.08044351051735595,
          0.08982050725337683,
          0.09918860831725149,
          0.10843420728651526,
          0.117453218554851,
          0.12615295824259115,
          0.13445330638172787,
          0.14228723854909664,
          0.1496008296803302,
          0.15635283663796176,
          0.16251396220030567,
          0.16806589412280937,
          0.173000200976733,
          0.17731715327288997,
          0.1810245251484011,
          0.18413641944948886,
          0.18667214787732295,
          0.18865518822380511,
          0.19011223267861344,
          0.19107233468572973,
          0.19156615673997746,
          0.1916253176741724,
          0.19128183521197223,
          0.1905676576680561,
          0.18951427749522795,
          0.18815241875441466,
          0.18651179038570226,
          0.18462089727472994,
          0.18250690144700998,
          0.18019552620920354,
          0.17771099663305262,
          0.175076010400099,
          0.17231173366033825,
          0.16943781718161977,
          0.16647242866232392,
          0.16343229763684117,
          0.16033276991528275,
          0.15718786896266598,
          0.15401036203796487,
          0.15081182928106104,
          0.14760273425810655,
          0.14439249475618782,
          0.1411895528599528,
          0.13800144354969662,
          0.1348348612359692,
          0.13169572379362635,
          0.12858923378176032,
          0.1255199366382354,
          0.12249177572147936,
          0.11950814414031269,
          0.11657193336724474,
          0.1136855786738695,
          0.11085110146054641,
          0.10807014857802177,
          0.10534402875739134,
          0.10267374627799455,
          0.10006003201147218,
          0.09750337198516613,
          0.09500403361001557,
          0.09256208971772927,
          0.09017744054979014,
          0.08784983383721857,
          0.08557888310532821,
          0.08336408433225372,
          0.08120483108405195,
          0.07910042824286852,
          0.07705010443818247,
          0.07505302328461104,
          0.0731082935232812,
          0.07121497815742087,
          0.06937210266665517,
          0.0675786623785511,
          0.06583362907026764,
          0.06413595686775714,
          0.062484587504840435,
          0.0608784549996478,
          0.05931648980137759,
          0.05779762245607614,
          0.056320786836173566,
          0.05488492297481371,
          0.05348897954258305,
          0.05213191600105885,
          0.050812704464649076,
          0.04953033129947261,
          0.048283798485516845,
          0.0470721247659938,
          0.04589434660568621,
          0.04474951897811753,
          0.04363671599958285,
          0.042555031426430114,
          0.041503579030470264,
          0.04048149286601375,
          0.039487927440766735,
          0.03852205780166424,
          0.03758307954566381,
          0.03667020876455999,
          0.03578268193200116,
          0.034919755740092685,
          0.03408070689223898,
          0.03326483185821596,
          0.032471446596861256,
          0.03169988625122178,
          0.030949504820499928,
          0.030219674812687176,
          0.029509786881364092,
          0.028819249449773456,
          0.028147488324935774,
          0.027493946304271023,
          0.026858082776914777,
          0.026239373321665916,
          0.025637309303277834,
          0.025051397468601026,
          0.024481159543900125,
          0.02392613183450369,
          0.023385864827793985,
          0.022859922800410982,
          0.02234788343042217,
          0.02184933741510266,
          0.021363888094871265,
          0.02089115108384178,
          0.020430753907369828,
          0.019982335646906626,
          0.019545546592407426,
          0.019120047902488727,
          0.018705511272477257,
          0.0183016186104512,
          0.01790806172133504,
          0.017524541999075233,
          0.01715077012689403,
          0.0167864657855927,
          0.016431357369851657,
          0.01608518171245603,
          0.015747683816357307,
          0.0154186165944669,
          0.015097740617065163,
          0.014784823866698106,
          0.01447964150042586,
          0.014181975619278695,
          0.013891615044771103,
          0.013608355102319267,
          0.013331997411403637,
          0.013062349682315904,
          0.012799225519327523,
          0.012542444230116112,
          0.01229183064128561,
          0.012047214919816245,
          0.011808432400281422,
          0.011575323417669345,
          0.011347733145649122,
          0.011125511440123154,
          0.010908512687909362,
          0.01069659566039991,
          0.010489623372045022,
          0.010287462943514174,
          0.010089985469389223,
          0.009897065890247598,
          0.009708582868996734,
          0.00952441867132408,
          0.009344459050130656,
          0.009168593133819122,
          0.008996713318310949
         ]
        },
        {
         "line": {
          "color": "blue",
          "width": 4
         },
         "mode": "lines",
         "name": "🔵 Gumbel (Medium) (ξ=+0.0)",
         "type": "scatter",
         "x": [
          0,
          0.07537688442211055,
          0.1507537688442211,
          0.22613065326633164,
          0.3015075376884422,
          0.37688442211055273,
          0.4522613065326633,
          0.5276381909547738,
          0.6030150753768844,
          0.6783919597989949,
          0.7537688442211055,
          0.829145728643216,
          0.9045226130653266,
          0.9798994974874371,
          1.0552763819095476,
          1.1306532663316582,
          1.2060301507537687,
          1.2814070351758793,
          1.3567839195979898,
          1.4321608040201004,
          1.507537688442211,
          1.5829145728643215,
          1.658291457286432,
          1.7336683417085426,
          1.809045226130653,
          1.8844221105527637,
          1.9597989949748742,
          2.0351758793969847,
          2.1105527638190953,
          2.185929648241206,
          2.2613065326633164,
          2.336683417085427,
          2.4120603015075375,
          2.487437185929648,
          2.5628140703517586,
          2.638190954773869,
          2.7135678391959797,
          2.78894472361809,
          2.8643216080402008,
          2.9396984924623113,
          3.015075376884422,
          3.0904522613065324,
          3.165829145728643,
          3.2412060301507535,
          3.316582914572864,
          3.3919597989949746,
          3.467336683417085,
          3.5427135678391957,
          3.618090452261306,
          3.6934673366834168,
          3.7688442211055273,
          3.844221105527638,
          3.9195979899497484,
          3.994974874371859,
          4.0703517587939695,
          4.14572864321608,
          4.221105527638191,
          4.296482412060302,
          4.371859296482412,
          4.447236180904522,
          4.522613065326633,
          4.597989949748744,
          4.673366834170854,
          4.748743718592964,
          4.824120603015075,
          4.899497487437186,
          4.974874371859296,
          5.050251256281406,
          5.125628140703517,
          5.201005025125628,
          5.276381909547738,
          5.351758793969848,
          5.427135678391959,
          5.50251256281407,
          5.57788944723618,
          5.6532663316582905,
          5.7286432160804015,
          5.8040201005025125,
          5.879396984924623,
          5.954773869346733,
          6.030150753768844,
          6.105527638190955,
          6.180904522613065,
          6.256281407035175,
          6.331658291457286,
          6.407035175879397,
          6.482412060301507,
          6.557788944723617,
          6.633165829145728,
          6.708542713567839,
          6.783919597989949,
          6.859296482412059,
          6.93467336683417,
          7.010050251256281,
          7.085427135678391,
          7.160804020100501,
          7.236180904522612,
          7.311557788944723,
          7.3869346733668335,
          7.462311557788944,
          7.537688442211055,
          7.613065326633166,
          7.688442211055276,
          7.763819095477386,
          7.839195979899497,
          7.914572864321608,
          7.989949748743718,
          8.065326633165828,
          8.140703517587939,
          8.21608040201005,
          8.29145728643216,
          8.36683417085427,
          8.442211055276381,
          8.517587939698492,
          8.592964824120603,
          8.668341708542712,
          8.743718592964823,
          8.819095477386934,
          8.894472361809044,
          8.969849246231155,
          9.045226130653266,
          9.120603015075377,
          9.195979899497488,
          9.271356783919597,
          9.346733668341708,
          9.422110552763819,
          9.497487437185928,
          9.572864321608039,
          9.64824120603015,
          9.72361809045226,
          9.798994974874372,
          9.874371859296481,
          9.949748743718592,
          10.025125628140703,
          10.100502512562812,
          10.175879396984923,
          10.251256281407034,
          10.326633165829145,
          10.402010050251256,
          10.477386934673365,
          10.552763819095476,
          10.628140703517587,
          10.703517587939697,
          10.778894472361808,
          10.854271356783919,
          10.92964824120603,
          11.00502512562814,
          11.08040201005025,
          11.15577889447236,
          11.231155778894472,
          11.306532663316581,
          11.381909547738692,
          11.457286432160803,
          11.532663316582914,
          11.608040201005025,
          11.683417085427134,
          11.758793969849245,
          11.834170854271356,
          11.909547738693465,
          11.984924623115576,
          12.060301507537687,
          12.135678391959798,
          12.21105527638191,
          12.286432160804019,
          12.36180904522613,
          12.43718592964824,
          12.51256281407035,
          12.58793969849246,
          12.663316582914572,
          12.738693467336683,
          12.814070351758794,
          12.889447236180903,
          12.964824120603014,
          13.040201005025125,
          13.115577889447234,
          13.190954773869345,
          13.266331658291456,
          13.341708542713567,
          13.417085427135678,
          13.492462311557787,
          13.567839195979898,
          13.64321608040201,
          13.718592964824118,
          13.79396984924623,
          13.86934673366834,
          13.944723618090451,
          14.020100502512562,
          14.095477386934672,
          14.170854271356783,
          14.246231155778894,
          14.321608040201003,
          14.396984924623114,
          14.472361809045225,
          14.547738693467336,
          14.623115577889447,
          14.698492462311556,
          14.773869346733667,
          14.849246231155778,
          14.924623115577887,
          15
         ],
         "y": [
          0.000031182885938309965,
          0.00004712368550866376,
          0.00007003645591817777,
          0.00010243273209438454,
          0.00014751658373675082,
          0.00020930456788551536,
          0.0002927463104587605,
          0.00040383993843917025,
          0.0005497357113856994,
          0.0007388206263074032,
          0.0009807765770096049,
          0.001286604897344684,
          0.0016686108358673355,
          0.0021403426902906466,
          0.0027164819305561002,
          0.0034126825820867484,
          0.0042453603205572805,
          0.005231434021080085,
          0.006388024772907484,
          0.007732119481007758,
          0.009280208004320018,
          0.011047904222787765,
          0.013049562403380219,
          0.015297900701818828,
          0.017803643576515853,
          0.02057519432060756,
          0.023618347881558477,
          0.02693605270372978,
          0.030528228583084422,
          0.03439164556118655,
          0.038519866808337626,
          0.042903256351522735,
          0.047529050482867596,
          0.052381489817926494,
          0.05744200732506902,
          0.06268946626582138,
          0.06810044090257678,
          0.07364953205943914,
          0.07930970916376376,
          0.08505267023664494,
          0.09084921141581385,
          0.09666959795154659,
          0.10248392917704291,
          0.10826249067799233,
          0.1139760877295066,
          0.11959635499112053,
          0.12509603841362835,
          0.13044924628040067,
          0.13563166725040418,
          0.14062075416537115,
          0.14539587320964148,
          0.14993841875346753,
          0.1542318948592469,
          0.15826196497986408,
          0.16201647182761084,
          0.16548542974283253,
          0.16866099214802288,
          0.17153739684213254,
          0.1741108919794613,
          0.17637964559672925,
          0.1783436415103717,
          0.18000456431350714,
          0.18136567606793022,
          0.182431687119984,
          0.1832086232787451,
          0.1837036913882998,
          0.18392514510986163,
          0.18388215251002663,
          0.18358466683364816,
          0.1830433016278199,
          0.18226921118064401,
          0.18127397704741752,
          0.18006950125949206,
          0.17866790664862783,
          0.1770814445729053,
          0.17532241019947206,
          0.17340306538447192,
          0.17133556909103534,
          0.16913191520153517,
          0.166803877509605,
          0.1643629616196982,
          0.16182036343618308,
          0.15918693388901603,
          0.1564731495177899,
          0.15368908851931154,
          0.15084441185474176,
          0.1479483490097026,
          0.1450096880036573,
          0.14203676925238937,
          0.13903748289872989,
          0.13601926924104765,
          0.13298912190575726,
          0.12995359342861354,
          0.1269188029293158,
          0.12389044558449333,
          0.1208738036250812,
          0.11787375860509626,
          0.1148948047096046,
          0.1119410628900051,
          0.10901629563445726,
          0.10612392220020729,
          0.1032670341526057,
          0.10044841107268512,
          0.09767053631122255,
          0.09493561268221874,
          0.09224557800267433,
          0.08960212039843368,
          0.08700669330772119,
          0.08446053012483629,
          0.08196465843634052,
          0.07951991381100385,
          0.07712695311282472,
          0.07478626731365072,
          0.07249819378834993,
          0.07026292808117929,
          0.06808053513700854,
          0.06595095999544372,
          0.06387403794970362,
          0.06184950417538049,
          0.05987700283701618,
          0.05795609568278594,
          0.05608627013954843,
          0.054266946922133776,
          0.05249748717203634,
          0.050777199141690106,
          0.049105344441267386,
          0.04748114386548004,
          0.04590378281820982,
          0.04437241635297164,
          0.042886173847242644,
          0.04144416332859654,
          0.04004547547037857,
          0.038689187274363844,
          0.037374365457472844,
          0.0361000695591864,
          0.03486535478582142,
          0.0336692746073084,
          0.03251088312155854,
          0.031389237200937524,
          0.030303398434772266,
          0.029252434881221614,
          0.028235422641240918,
          0.02725144726677128,
          0.026299605014690558,
          0.025379003957478097,
          0.024488764960970424,
          0.023628022539025184,
          0.02279592559436514,
          0.021991638054345564,
          0.02121433940987846,
          0.020463225165254686,
          0.019737507206133268,
          0.01903641409251482,
          0.01835919128308245,
          0.017705101296881562,
          0.017073423817916336,
          0.016463455747867017,
          0.015874511211777975,
          0.015305921521230044,
          0.01475703509919327,
          0.014227217370456477,
          0.013715850621246112,
          0.013222333831381355,
          0.012746082482060805,
          0.012286528342140904,
          0.01184311923554505,
          0.011415318792234832,
          0.0110026061849808,
          0.010604475853988826,
          0.010220437221267928,
          0.009850014396467521,
          0.009492745875764038,
          0.009148184235239377,
          0.008815895820065629,
          0.008495460430691245,
          0.008186471007113437,
          0.00788853331221892,
          0.007601265615079747,
          0.007324298375003241,
          0.00705727392705319,
          0.006799846169684236,
          0.006551680255061969,
          0.006312452282576777,
          0.00608184899600068,
          0.005859567484681854,
          0.005645314889121601,
          0.005438808111232568,
          0.005239773529535073,
          0.005047946719509688,
          0.004863072179289297,
          0.004684903060841346,
          0.004513200906761956,
          0.004347735392776866,
          0.004188284076019868,
          0.004034632149137521,
          0.0038865722002490656,
          0.0037439039787725632,
          0.0036064341671121413,
          0.003473976158186725,
          0.003346349838767757
         ]
        },
        {
         "line": {
          "color": "green",
          "width": 4
         },
         "mode": "lines",
         "name": "🟢 Weibull (Light) (ξ=-0.3)",
         "type": "scatter",
         "x": [
          0,
          0.07537688442211055,
          0.1507537688442211,
          0.22613065326633164,
          0.3015075376884422,
          0.37688442211055273,
          0.4522613065326633,
          0.5276381909547738,
          0.6030150753768844,
          0.6783919597989949,
          0.7537688442211055,
          0.829145728643216,
          0.9045226130653266,
          0.9798994974874371,
          1.0552763819095476,
          1.1306532663316582,
          1.2060301507537687,
          1.2814070351758793,
          1.3567839195979898,
          1.4321608040201004,
          1.507537688442211,
          1.5829145728643215,
          1.658291457286432,
          1.7336683417085426,
          1.809045226130653,
          1.8844221105527637,
          1.9597989949748742,
          2.0351758793969847,
          2.1105527638190953,
          2.185929648241206,
          2.2613065326633164,
          2.336683417085427,
          2.4120603015075375,
          2.487437185929648,
          2.5628140703517586,
          2.638190954773869,
          2.7135678391959797,
          2.78894472361809,
          2.8643216080402008,
          2.9396984924623113,
          3.015075376884422,
          3.0904522613065324,
          3.165829145728643,
          3.2412060301507535,
          3.316582914572864,
          3.3919597989949746,
          3.467336683417085,
          3.5427135678391957,
          3.618090452261306,
          3.6934673366834168,
          3.7688442211055273,
          3.844221105527638,
          3.9195979899497484,
          3.994974874371859,
          4.0703517587939695,
          4.14572864321608,
          4.221105527638191,
          4.296482412060302,
          4.371859296482412,
          4.447236180904522,
          4.522613065326633,
          4.597989949748744,
          4.673366834170854,
          4.748743718592964,
          4.824120603015075,
          4.899497487437186,
          4.974874371859296,
          5.050251256281406,
          5.125628140703517,
          5.201005025125628,
          5.276381909547738,
          5.351758793969848,
          5.427135678391959,
          5.50251256281407,
          5.57788944723618,
          5.6532663316582905,
          5.7286432160804015,
          5.8040201005025125,
          5.879396984924623,
          5.954773869346733,
          6.030150753768844,
          6.105527638190955,
          6.180904522613065,
          6.256281407035175,
          6.331658291457286,
          6.407035175879397,
          6.482412060301507,
          6.557788944723617,
          6.633165829145728,
          6.708542713567839,
          6.783919597989949,
          6.859296482412059,
          6.93467336683417,
          7.010050251256281,
          7.085427135678391,
          7.160804020100501,
          7.236180904522612,
          7.311557788944723,
          7.3869346733668335,
          7.462311557788944,
          7.537688442211055,
          7.613065326633166,
          7.688442211055276,
          7.763819095477386,
          7.839195979899497,
          7.914572864321608,
          7.989949748743718,
          8.065326633165828,
          8.140703517587939,
          8.21608040201005,
          8.29145728643216,
          8.36683417085427,
          8.442211055276381,
          8.517587939698492,
          8.592964824120603,
          8.668341708542712,
          8.743718592964823,
          8.819095477386934,
          8.894472361809044,
          8.969849246231155,
          9.045226130653266,
          9.120603015075377,
          9.195979899497488,
          9.271356783919597,
          9.346733668341708,
          9.422110552763819,
          9.497487437185928,
          9.572864321608039,
          9.64824120603015,
          9.72361809045226,
          9.798994974874372,
          9.874371859296481,
          9.949748743718592,
          10.025125628140703,
          10.100502512562812,
          10.175879396984923,
          10.251256281407034,
          10.326633165829145,
          10.402010050251256,
          10.477386934673365,
          10.552763819095476,
          10.628140703517587,
          10.703517587939697,
          10.778894472361808,
          10.854271356783919,
          10.92964824120603,
          11.00502512562814,
          11.08040201005025,
          11.15577889447236,
          11.231155778894472,
          11.306532663316581,
          11.381909547738692,
          11.457286432160803,
          11.532663316582914,
          11.608040201005025,
          11.683417085427134,
          11.758793969849245,
          11.834170854271356,
          11.909547738693465,
          11.984924623115576,
          12.060301507537687,
          12.135678391959798,
          12.21105527638191,
          12.286432160804019,
          12.36180904522613,
          12.43718592964824,
          12.51256281407035,
          12.58793969849246,
          12.663316582914572,
          12.738693467336683,
          12.814070351758794,
          12.889447236180903,
          12.964824120603014,
          13.040201005025125,
          13.115577889447234,
          13.190954773869345,
          13.266331658291456,
          13.341708542713567,
          13.417085427135678,
          13.492462311557787,
          13.567839195979898,
          13.64321608040201,
          13.718592964824118,
          13.79396984924623,
          13.86934673366834,
          13.944723618090451,
          14.020100502512562,
          14.095477386934672,
          14.170854271356783,
          14.246231155778894,
          14.321608040201003,
          14.396984924623114,
          14.472361809045225,
          14.547738693467336,
          14.623115577889447,
          14.698492462311556,
          14.773869346733667,
          14.849246231155778,
          14.924623115577887,
          15
         ],
         "y": [
          0.0028920054006500015,
          0.0032702643178678767,
          0.0036899539634425655,
          0.004154517879951747,
          0.004667551706308869,
          0.005232794304464832,
          0.005854116762811474,
          0.006535509193591862,
          0.0072810652613288845,
          0.00809496440144709,
          0.008981451712716183,
          0.009944815533665215,
          0.010989362741439372,
          0.012119391841371063,
          0.01333916394645541,
          0.014652871777550324,
          0.016064606847024276,
          0.017578325020284745,
          0.01919781068064531,
          0.02092663975283346,
          0.022768141868593505,
          0.024725361983804123,
          0.026801021779820258,
          0.028997481201903524,
          0.0313167005041959,
          0.033760203183332345,
          0.03632904019114377,
          0.03902375582069196,
          0.04184435565889646,
          0.04479027699310234,
          0.04786036204804679,
          0.05105283441379728,
          0.05436527900445626,
          0.05779462586190983,
          0.061337138088881415,
          0.0649884041613529,
          0.0687433348324076,
          0.07259616479818327,
          0.07654045925239657,
          0.08056912540935854,
          0.08467442902713725,
          0.08884801591314884,
          0.09308093834461434,
          0.09736368628665049,
          0.10168622324190817,
          0.1060380265182761,
          0.11040813165582535,
          0.11478518071147531,
          0.11915747406034326,
          0.12351302533689314,
          0.127839619107256,
          0.13212487083683128,
          0.13635628869479652,
          0.1405213367196967,
          0.14460749885800836,
          0.1486023433805794,
          0.15249358718013775,
          0.15626915945659975,
          0.15991726430555775,
          0.16342644173890045,
          0.16678562668477048,
          0.16998420553668175,
          0.1730120698482481,
          0.17585966680022191,
          0.17851804609996266,
          0.1809789030095984,
          0.18323461723751805,
          0.1852782874679466,
          0.1871037613447064,
          0.18870566076735507,
          0.1900794024002305,
          0.19122121333703665,
          0.1921281419050322,
          0.19279806363319868,
          0.19322968244757305,
          0.19342252719386857,
          0.19337694362225838,
          0.19309408200146644,
          0.1925758805588714,
          0.1918250449699763,
          0.1908450241441775,
          0.189639982574178,
          0.1882147695335552,
          0.18657488542089526,
          0.18472644555955134,
          0.18267614176952518,
          0.18043120203229052,
          0.17799934857068953,
          0.17538875466447917,
          0.17260800051784975,
          0.16966602848846737,
          0.16657209797850742,
          0.16333574027696748,
          0.15996671362949172,
          0.15647495879724524,
          0.15287055535027527,
          0.14916367892352195,
          0.1453645596454254,
          0.14148344193014778,
          0.1375305458050003,
          0.1335160299249542,
          0.1294499564063067,
          0.12534225759186507,
          0.12120270484056203,
          0.11704087941538903,
          0.11286614552506238,
          0.10868762555704643,
          0.104514177522557,
          0.10035437471804394,
          0.09621648759247757,
          0.09210846779560365,
          0.08803793436922093,
          0.0840121620315115,
          0.08003807149351758,
          0.07612222173702983,
          0.07227080417439902,
          0.06848963860309776,
          0.06478417086120122,
          0.06115947208427733,
          0.057620239459436104,
          0.054170798368407935,
          0.050815105808437726,
          0.04755675497741706,
          0.044398980907935516,
          0.041344667033719786,
          0.038396352571139505,
          0.03555624059796271,
          0.03282620671121556,
          0.03020780814568006,
          0.02770229323407095,
          0.02531061108906442,
          0.02303342138584589,
          0.020871104121396214,
          0.01882376922295024,
          0.01689126587243231,
          0.01507319140554019,
          0.013368899632615238,
          0.01177750841227832,
          0.010297906286317188,
          0.008928757953025767,
          0.007668508312541155,
          0.006515384756349695,
          0.005467397285839236,
          0.004522335918670566,
          0.00367776465590397,
          0.0029310110021471226,
          0.002279149594208972,
          0.0017189777888463665,
          0.001246979870993663,
          0.0008592744246239663,
          0.0005515353615579247,
          0.0003188686493378223,
          0.0001556068178654086,
          0.00005492691156612366,
          0.00000798120033330067,
          0,
          0,
          0,
          0,
          0,
          0,
          0,
          0,
          0,
          0,
          0,
          0,
          0,
          0,
          0,
          0,
          0,
          0,
          0,
          0,
          0,
          0,
          0,
          0,
          0,
          0,
          0,
          0,
          0,
          0,
          0,
          0,
          0,
          0,
          0,
          0,
          0,
          0,
          0,
          0,
          0,
          0,
          0,
          0,
          0
         ]
        }
       ],
       "layout": {
        "font": {
         "size": 14
        },
        "height": 500,
        "template": {
         "data": {
          "bar": [
           {
            "error_x": {
             "color": "#2a3f5f"
            },
            "error_y": {
             "color": "#2a3f5f"
            },
            "marker": {
             "line": {
              "color": "#E5ECF6",
              "width": 0.5
             },
             "pattern": {
              "fillmode": "overlay",
              "size": 10,
              "solidity": 0.2
             }
            },
            "type": "bar"
           }
          ],
          "barpolar": [
           {
            "marker": {
             "line": {
              "color": "#E5ECF6",
              "width": 0.5
             },
             "pattern": {
              "fillmode": "overlay",
              "size": 10,
              "solidity": 0.2
             }
            },
            "type": "barpolar"
           }
          ],
          "carpet": [
           {
            "aaxis": {
             "endlinecolor": "#2a3f5f",
             "gridcolor": "white",
             "linecolor": "white",
             "minorgridcolor": "white",
             "startlinecolor": "#2a3f5f"
            },
            "baxis": {
             "endlinecolor": "#2a3f5f",
             "gridcolor": "white",
             "linecolor": "white",
             "minorgridcolor": "white",
             "startlinecolor": "#2a3f5f"
            },
            "type": "carpet"
           }
          ],
          "choropleth": [
           {
            "colorbar": {
             "outlinewidth": 0,
             "ticks": ""
            },
            "type": "choropleth"
           }
          ],
          "contour": [
           {
            "colorbar": {
             "outlinewidth": 0,
             "ticks": ""
            },
            "colorscale": [
             [
              0,
              "#0d0887"
             ],
             [
              0.1111111111111111,
              "#46039f"
             ],
             [
              0.2222222222222222,
              "#7201a8"
             ],
             [
              0.3333333333333333,
              "#9c179e"
             ],
             [
              0.4444444444444444,
              "#bd3786"
             ],
             [
              0.5555555555555556,
              "#d8576b"
             ],
             [
              0.6666666666666666,
              "#ed7953"
             ],
             [
              0.7777777777777778,
              "#fb9f3a"
             ],
             [
              0.8888888888888888,
              "#fdca26"
             ],
             [
              1,
              "#f0f921"
             ]
            ],
            "type": "contour"
           }
          ],
          "contourcarpet": [
           {
            "colorbar": {
             "outlinewidth": 0,
             "ticks": ""
            },
            "type": "contourcarpet"
           }
          ],
          "heatmap": [
           {
            "colorbar": {
             "outlinewidth": 0,
             "ticks": ""
            },
            "colorscale": [
             [
              0,
              "#0d0887"
             ],
             [
              0.1111111111111111,
              "#46039f"
             ],
             [
              0.2222222222222222,
              "#7201a8"
             ],
             [
              0.3333333333333333,
              "#9c179e"
             ],
             [
              0.4444444444444444,
              "#bd3786"
             ],
             [
              0.5555555555555556,
              "#d8576b"
             ],
             [
              0.6666666666666666,
              "#ed7953"
             ],
             [
              0.7777777777777778,
              "#fb9f3a"
             ],
             [
              0.8888888888888888,
              "#fdca26"
             ],
             [
              1,
              "#f0f921"
             ]
            ],
            "type": "heatmap"
           }
          ],
          "heatmapgl": [
           {
            "colorbar": {
             "outlinewidth": 0,
             "ticks": ""
            },
            "colorscale": [
             [
              0,
              "#0d0887"
             ],
             [
              0.1111111111111111,
              "#46039f"
             ],
             [
              0.2222222222222222,
              "#7201a8"
             ],
             [
              0.3333333333333333,
              "#9c179e"
             ],
             [
              0.4444444444444444,
              "#bd3786"
             ],
             [
              0.5555555555555556,
              "#d8576b"
             ],
             [
              0.6666666666666666,
              "#ed7953"
             ],
             [
              0.7777777777777778,
              "#fb9f3a"
             ],
             [
              0.8888888888888888,
              "#fdca26"
             ],
             [
              1,
              "#f0f921"
             ]
            ],
            "type": "heatmapgl"
           }
          ],
          "histogram": [
           {
            "marker": {
             "pattern": {
              "fillmode": "overlay",
              "size": 10,
              "solidity": 0.2
             }
            },
            "type": "histogram"
           }
          ],
          "histogram2d": [
           {
            "colorbar": {
             "outlinewidth": 0,
             "ticks": ""
            },
            "colorscale": [
             [
              0,
              "#0d0887"
             ],
             [
              0.1111111111111111,
              "#46039f"
             ],
             [
              0.2222222222222222,
              "#7201a8"
             ],
             [
              0.3333333333333333,
              "#9c179e"
             ],
             [
              0.4444444444444444,
              "#bd3786"
             ],
             [
              0.5555555555555556,
              "#d8576b"
             ],
             [
              0.6666666666666666,
              "#ed7953"
             ],
             [
              0.7777777777777778,
              "#fb9f3a"
             ],
             [
              0.8888888888888888,
              "#fdca26"
             ],
             [
              1,
              "#f0f921"
             ]
            ],
            "type": "histogram2d"
           }
          ],
          "histogram2dcontour": [
           {
            "colorbar": {
             "outlinewidth": 0,
             "ticks": ""
            },
            "colorscale": [
             [
              0,
              "#0d0887"
             ],
             [
              0.1111111111111111,
              "#46039f"
             ],
             [
              0.2222222222222222,
              "#7201a8"
             ],
             [
              0.3333333333333333,
              "#9c179e"
             ],
             [
              0.4444444444444444,
              "#bd3786"
             ],
             [
              0.5555555555555556,
              "#d8576b"
             ],
             [
              0.6666666666666666,
              "#ed7953"
             ],
             [
              0.7777777777777778,
              "#fb9f3a"
             ],
             [
              0.8888888888888888,
              "#fdca26"
             ],
             [
              1,
              "#f0f921"
             ]
            ],
            "type": "histogram2dcontour"
           }
          ],
          "mesh3d": [
           {
            "colorbar": {
             "outlinewidth": 0,
             "ticks": ""
            },
            "type": "mesh3d"
           }
          ],
          "parcoords": [
           {
            "line": {
             "colorbar": {
              "outlinewidth": 0,
              "ticks": ""
             }
            },
            "type": "parcoords"
           }
          ],
          "pie": [
           {
            "automargin": true,
            "type": "pie"
           }
          ],
          "scatter": [
           {
            "fillpattern": {
             "fillmode": "overlay",
             "size": 10,
             "solidity": 0.2
            },
            "type": "scatter"
           }
          ],
          "scatter3d": [
           {
            "line": {
             "colorbar": {
              "outlinewidth": 0,
              "ticks": ""
             }
            },
            "marker": {
             "colorbar": {
              "outlinewidth": 0,
              "ticks": ""
             }
            },
            "type": "scatter3d"
           }
          ],
          "scattercarpet": [
           {
            "marker": {
             "colorbar": {
              "outlinewidth": 0,
              "ticks": ""
             }
            },
            "type": "scattercarpet"
           }
          ],
          "scattergeo": [
           {
            "marker": {
             "colorbar": {
              "outlinewidth": 0,
              "ticks": ""
             }
            },
            "type": "scattergeo"
           }
          ],
          "scattergl": [
           {
            "marker": {
             "colorbar": {
              "outlinewidth": 0,
              "ticks": ""
             }
            },
            "type": "scattergl"
           }
          ],
          "scattermapbox": [
           {
            "marker": {
             "colorbar": {
              "outlinewidth": 0,
              "ticks": ""
             }
            },
            "type": "scattermapbox"
           }
          ],
          "scatterpolar": [
           {
            "marker": {
             "colorbar": {
              "outlinewidth": 0,
              "ticks": ""
             }
            },
            "type": "scatterpolar"
           }
          ],
          "scatterpolargl": [
           {
            "marker": {
             "colorbar": {
              "outlinewidth": 0,
              "ticks": ""
             }
            },
            "type": "scatterpolargl"
           }
          ],
          "scatterternary": [
           {
            "marker": {
             "colorbar": {
              "outlinewidth": 0,
              "ticks": ""
             }
            },
            "type": "scatterternary"
           }
          ],
          "surface": [
           {
            "colorbar": {
             "outlinewidth": 0,
             "ticks": ""
            },
            "colorscale": [
             [
              0,
              "#0d0887"
             ],
             [
              0.1111111111111111,
              "#46039f"
             ],
             [
              0.2222222222222222,
              "#7201a8"
             ],
             [
              0.3333333333333333,
              "#9c179e"
             ],
             [
              0.4444444444444444,
              "#bd3786"
             ],
             [
              0.5555555555555556,
              "#d8576b"
             ],
             [
              0.6666666666666666,
              "#ed7953"
             ],
             [
              0.7777777777777778,
              "#fb9f3a"
             ],
             [
              0.8888888888888888,
              "#fdca26"
             ],
             [
              1,
              "#f0f921"
             ]
            ],
            "type": "surface"
           }
          ],
          "table": [
           {
            "cells": {
             "fill": {
              "color": "#EBF0F8"
             },
             "line": {
              "color": "white"
             }
            },
            "header": {
             "fill": {
              "color": "#C8D4E3"
             },
             "line": {
              "color": "white"
             }
            },
            "type": "table"
           }
          ]
         },
         "layout": {
          "annotationdefaults": {
           "arrowcolor": "#2a3f5f",
           "arrowhead": 0,
           "arrowwidth": 1
          },
          "autotypenumbers": "strict",
          "coloraxis": {
           "colorbar": {
            "outlinewidth": 0,
            "ticks": ""
           }
          },
          "colorscale": {
           "diverging": [
            [
             0,
             "#8e0152"
            ],
            [
             0.1,
             "#c51b7d"
            ],
            [
             0.2,
             "#de77ae"
            ],
            [
             0.3,
             "#f1b6da"
            ],
            [
             0.4,
             "#fde0ef"
            ],
            [
             0.5,
             "#f7f7f7"
            ],
            [
             0.6,
             "#e6f5d0"
            ],
            [
             0.7,
             "#b8e186"
            ],
            [
             0.8,
             "#7fbc41"
            ],
            [
             0.9,
             "#4d9221"
            ],
            [
             1,
             "#276419"
            ]
           ],
           "sequential": [
            [
             0,
             "#0d0887"
            ],
            [
             0.1111111111111111,
             "#46039f"
            ],
            [
             0.2222222222222222,
             "#7201a8"
            ],
            [
             0.3333333333333333,
             "#9c179e"
            ],
            [
             0.4444444444444444,
             "#bd3786"
            ],
            [
             0.5555555555555556,
             "#d8576b"
            ],
            [
             0.6666666666666666,
             "#ed7953"
            ],
            [
             0.7777777777777778,
             "#fb9f3a"
            ],
            [
             0.8888888888888888,
             "#fdca26"
            ],
            [
             1,
             "#f0f921"
            ]
           ],
           "sequentialminus": [
            [
             0,
             "#0d0887"
            ],
            [
             0.1111111111111111,
             "#46039f"
            ],
            [
             0.2222222222222222,
             "#7201a8"
            ],
            [
             0.3333333333333333,
             "#9c179e"
            ],
            [
             0.4444444444444444,
             "#bd3786"
            ],
            [
             0.5555555555555556,
             "#d8576b"
            ],
            [
             0.6666666666666666,
             "#ed7953"
            ],
            [
             0.7777777777777778,
             "#fb9f3a"
            ],
            [
             0.8888888888888888,
             "#fdca26"
            ],
            [
             1,
             "#f0f921"
            ]
           ]
          },
          "colorway": [
           "#636efa",
           "#EF553B",
           "#00cc96",
           "#ab63fa",
           "#FFA15A",
           "#19d3f3",
           "#FF6692",
           "#B6E880",
           "#FF97FF",
           "#FECB52"
          ],
          "font": {
           "color": "#2a3f5f"
          },
          "geo": {
           "bgcolor": "white",
           "lakecolor": "white",
           "landcolor": "#E5ECF6",
           "showlakes": true,
           "showland": true,
           "subunitcolor": "white"
          },
          "hoverlabel": {
           "align": "left"
          },
          "hovermode": "closest",
          "mapbox": {
           "style": "light"
          },
          "paper_bgcolor": "white",
          "plot_bgcolor": "#E5ECF6",
          "polar": {
           "angularaxis": {
            "gridcolor": "white",
            "linecolor": "white",
            "ticks": ""
           },
           "bgcolor": "#E5ECF6",
           "radialaxis": {
            "gridcolor": "white",
            "linecolor": "white",
            "ticks": ""
           }
          },
          "scene": {
           "xaxis": {
            "backgroundcolor": "#E5ECF6",
            "gridcolor": "white",
            "gridwidth": 2,
            "linecolor": "white",
            "showbackground": true,
            "ticks": "",
            "zerolinecolor": "white"
           },
           "yaxis": {
            "backgroundcolor": "#E5ECF6",
            "gridcolor": "white",
            "gridwidth": 2,
            "linecolor": "white",
            "showbackground": true,
            "ticks": "",
            "zerolinecolor": "white"
           },
           "zaxis": {
            "backgroundcolor": "#E5ECF6",
            "gridcolor": "white",
            "gridwidth": 2,
            "linecolor": "white",
            "showbackground": true,
            "ticks": "",
            "zerolinecolor": "white"
           }
          },
          "shapedefaults": {
           "line": {
            "color": "#2a3f5f"
           }
          },
          "ternary": {
           "aaxis": {
            "gridcolor": "white",
            "linecolor": "white",
            "ticks": ""
           },
           "baxis": {
            "gridcolor": "white",
            "linecolor": "white",
            "ticks": ""
           },
           "bgcolor": "#E5ECF6",
           "caxis": {
            "gridcolor": "white",
            "linecolor": "white",
            "ticks": ""
           }
          },
          "title": {
           "x": 0.05
          },
          "xaxis": {
           "automargin": true,
           "gridcolor": "white",
           "linecolor": "white",
           "ticks": "",
           "title": {
            "standoff": 15
           },
           "zerolinecolor": "white",
           "zerolinewidth": 2
          },
          "yaxis": {
           "automargin": true,
           "gridcolor": "white",
           "linecolor": "white",
           "ticks": "",
           "title": {
            "standoff": 15
           },
           "zerolinecolor": "white",
           "zerolinewidth": 2
          }
         }
        },
        "title": {
         "text": "🎯 Three Types of GEV Distribution"
        },
        "xaxis": {
         "title": {
          "text": "Flow (m³/s)"
         }
        },
        "yaxis": {
         "title": {
          "text": "Probability Density"
         }
        }
       }
      }
     },
     "metadata": {},
     "output_type": "display_data"
    },
    {
     "name": "stdout",
     "output_type": "stream",
     "text": [
      "👀 Notice the differences:\n",
      "🔴 Red (Heavy tail): Long tail extends far to the right\n",
      "🔵 Blue (Gumbel): Medium tail - your familiar shape\n",
      "🟢 Green (Light tail): Tail cuts off earlier\n",
      "\n",
      "💡 The shape parameter ξ determines which type you get!\n"
     ]
    }
   ],
   "source": [
    "# Show the three types of GEV\n",
    "x = np.linspace(0, 15, 200)\n",
    "\n",
    "# Create the three types\n",
    "shapes = [0.3, 0.0, -0.3]  # Heavy, Medium, Light\n",
    "names = ['🔴 Fréchet (Heavy)', '🔵 Gumbel (Medium)', '🟢 Weibull (Light)']\n",
    "colors = ['red', 'blue', 'green']\n",
    "\n",
    "fig = go.Figure()\n",
    "\n",
    "for shape, name, color in zip(shapes, names, colors):\n",
    "    try:\n",
    "        if shape == 0:\n",
    "            # Use Gumbel for ξ = 0\n",
    "            pdf_vals = stats.gumbel_r.pdf(x, loc=5, scale=2)\n",
    "        else:\n",
    "            # Use GEV for ξ ≠ 0\n",
    "            pdf_vals = stats.genextreme.pdf(x, -shape, loc=5, scale=2)\n",
    "        \n",
    "        fig.add_trace(go.Scatter(\n",
    "            x=x, y=pdf_vals, mode='lines',\n",
    "            name=f'{name} (ξ={shape:+.1f})',\n",
    "            line=dict(color=color, width=4)\n",
    "        ))\n",
    "    except:\n",
    "        pass\n",
    "\n",
    "fig.update_layout(\n",
    "    title='🎯 Three Types of GEV Distribution',\n",
    "    xaxis_title='Flow (m³/s)',\n",
    "    yaxis_title='Probability Density',\n",
    "    height=500,\n",
    "    font=dict(size=14)\n",
    ")\n",
    "\n",
    "fig.show()\n",
    "\n",
    "print(\"👀 Notice the differences:\")\n",
    "print(\"🔴 Red (Heavy tail): Long tail extends far to the right\")\n",
    "print(\"🔵 Blue (Gumbel): Medium tail - your familiar shape\")\n",
    "print(\"🟢 Green (Light tail): Tail cuts off earlier\")\n",
    "print(\"\\n💡 The shape parameter ξ determines which type you get!\")"
   ]
  },
  {
   "cell_type": "markdown",
   "metadata": {},
   "source": [
    "---\n",
    "\n",
    "# ⚡ Part 3: Fit GEV to Our Flood Data\n",
    "\n",
    "Now let's fit GEV to our real flood data and see what type we get!"
   ]
  },
  {
   "cell_type": "code",
   "execution_count": 19,
   "metadata": {},
   "outputs": [
    {
     "name": "stdout",
     "output_type": "stream",
     "text": [
      "🔧 Fitting GEV to our flood data...\n",
      "\n",
      "📊 Results:\n",
      "Shape (ξ): 0.0369\n",
      "Location (μ): 238.5 m³/s\n",
      "Scale (σ): 73.9 m³/s\n",
      "\n",
      "🎯 What type is this?\n",
      "Type: 🔵 Gumbel-like (Medium Tail)\n",
      "Meaning: Standard extreme behavior - like regular Gumbel\n",
      "Engineering advice: Either GEV or Gumbel will work fine\n"
     ]
    },
    {
     "data": {
      "application/vnd.plotly.v1+json": {
       "config": {
        "plotlyServerURL": "https://plot.ly"
       },
       "data": [
        {
         "histnorm": "probability density",
         "marker": {
          "color": "lightblue"
         },
         "name": "Our Flood Data",
         "nbinsx": 12,
         "opacity": 0.7,
         "type": "histogram",
         "x": [
          334,
          203,
          197,
          183,
          567,
          255,
          217,
          335,
          285,
          292,
          173,
          229,
          288,
          349,
          386,
          348,
          229,
          367,
          309,
          160,
          277,
          257,
          244,
          238,
          238,
          356,
          345,
          117,
          179,
          409,
          251,
          251,
          328,
          204,
          248,
          230,
          220,
          304,
          189,
          634,
          331,
          275,
          475,
          284,
          190,
          469,
          222,
          327,
          251,
          147
         ]
        },
        {
         "line": {
          "color": "blue",
          "width": 4
         },
         "mode": "lines",
         "name": "GEV Fit",
         "type": "scatter",
         "x": [
          93.60000000000001,
          96.95276381909548,
          100.30552763819097,
          103.65829145728644,
          107.01105527638191,
          110.3638190954774,
          113.71658291457287,
          117.06934673366834,
          120.42211055276383,
          123.77487437185931,
          127.12763819095478,
          130.48040201005026,
          133.83316582914574,
          137.1859296482412,
          140.53869346733669,
          143.89145728643217,
          147.24422110552763,
          150.59698492462311,
          153.9497487437186,
          157.30251256281406,
          160.65527638190957,
          164.00804020100503,
          167.3608040201005,
          170.713567839196,
          174.06633165829146,
          177.41909547738692,
          180.77185929648243,
          184.1246231155779,
          187.47738693467335,
          190.83015075376886,
          194.18291457286432,
          197.5356783919598,
          200.8884422110553,
          204.24120603015075,
          207.59396984924624,
          210.94673366834172,
          214.29949748743718,
          217.65226130653267,
          221.00502512562815,
          224.3577889447236,
          227.71055276381912,
          231.06331658291458,
          234.41608040201004,
          237.76884422110555,
          241.121608040201,
          244.47437185929647,
          247.82713567839198,
          251.17989949748744,
          254.5326633165829,
          257.8854271356784,
          261.23819095477387,
          264.5909547738693,
          267.94371859296484,
          271.2964824120603,
          274.64924623115576,
          278.0020100502513,
          281.35477386934673,
          284.7075376884422,
          288.0603015075377,
          291.41306532663316,
          294.7658291457286,
          298.11859296482413,
          301.4713567839196,
          304.82412060301505,
          308.17688442211056,
          311.529648241206,
          314.8824120603015,
          318.235175879397,
          321.58793969849245,
          324.9407035175879,
          328.2934673366834,
          331.6462311557789,
          334.9989949748744,
          338.35175879396985,
          341.7045226130653,
          345.0572864321608,
          348.4100502512563,
          351.76281407035174,
          355.11557788944725,
          358.4683417085427,
          361.8211055276382,
          365.1738693467337,
          368.52663316582914,
          371.87939698492465,
          375.2321608040201,
          378.58492462311557,
          381.9376884422111,
          385.29045226130654,
          388.643216080402,
          391.9959798994975,
          395.34874371859297,
          398.7015075376884,
          402.05427135678394,
          405.4070351758794,
          408.75979899497486,
          412.1125628140704,
          415.46532663316583,
          418.8180904522613,
          422.1708542713568,
          425.52361809045226,
          428.8763819095477,
          432.22914572864323,
          435.5819095477387,
          438.93467336683415,
          442.28743718592966,
          445.6402010050251,
          448.9929648241206,
          452.3457286432161,
          455.69849246231155,
          459.051256281407,
          462.4040201005025,
          465.756783919598,
          469.10954773869344,
          472.46231155778895,
          475.8150753768844,
          479.1678391959799,
          482.5206030150754,
          485.87336683417084,
          489.22613065326635,
          492.5788944723618,
          495.93165829145727,
          499.2844221105528,
          502.63718592964824,
          505.9899497487437,
          509.3427135678392,
          512.6954773869346,
          516.0482412060301,
          519.4010050251256,
          522.7537688442211,
          526.1065326633166,
          529.459296482412,
          532.8120603015075,
          536.1648241206029,
          539.5175879396985,
          542.870351758794,
          546.2231155778894,
          549.5758793969849,
          552.9286432160803,
          556.2814070351758,
          559.6341708542714,
          562.9869346733668,
          566.3396984924623,
          569.6924623115577,
          573.0452261306532,
          576.3979899497488,
          579.7507537688442,
          583.1035175879397,
          586.4562814070351,
          589.8090452261306,
          593.161809045226,
          596.5145728643216,
          599.8673366834171,
          603.2201005025125,
          606.572864321608,
          609.9256281407035,
          613.278391959799,
          616.6311557788945,
          619.9839195979899,
          623.3366834170854,
          626.6894472361809,
          630.0422110552764,
          633.3949748743719,
          636.7477386934673,
          640.1005025125628,
          643.4532663316583,
          646.8060301507537,
          650.1587939698493,
          653.5115577889447,
          656.8643216080402,
          660.2170854271357,
          663.5698492462311,
          666.9226130653266,
          670.2753768844221,
          673.6281407035176,
          676.9809045226131,
          680.3336683417085,
          683.686432160804,
          687.0391959798994,
          690.391959798995,
          693.7447236180905,
          697.0974874371859,
          700.4502512562814,
          703.8030150753768,
          707.1557788944723,
          710.5085427135679,
          713.8613065326633,
          717.2140703517588,
          720.5668341708542,
          723.9195979899497,
          727.2723618090452,
          730.6251256281407,
          733.9778894472362,
          737.3306532663316,
          740.6834170854271,
          744.0361809045226,
          747.3889447236181,
          750.7417085427136,
          754.094472361809,
          757.4472361809045,
          760.8
         ],
         "y": [
          0.00005298432139035942,
          0.00007255252037069272,
          0.00009758259043842783,
          0.00012903457053961375,
          0.0001678927192524306,
          0.00021513344775103807,
          0.00027169004880508784,
          0.0003384159905943008,
          0.0004160486927081335,
          0.000505175702014083,
          0.0006062050443158891,
          0.0007193412634094651,
          0.0008445683016229202,
          0.0009816399601809164,
          0.0011300782401750728,
          0.0012891794396703905,
          0.0014580274984814859,
          0.0016355137613292936,
          0.001820362086493743,
          0.0020111580669817174,
          0.002206381053914628,
          0.0024044376708771214,
          0.0026036955727454596,
          0.0028025163198119965,
          0.0029992863934828304,
          0.0031924455591981135,
          0.0033805119723374563,
          0.0035621036123080654,
          0.003735955809501267,
          0.00390093479237047,
          0.004056047322809129,
          0.004200446604627056,
          0.0043334347413495605,
          0.004454462086349287,
          0.0045631238721125155,
          0.004659154528650918,
          0.00474242010657218,
          0.0048129092112052605,
          0.00487072283353333,
          0.004916063434466356,
          0.004949223603876921,
          0.004970574577193658,
          0.004980554852204243,
          0.004979659108705076,
          0.004968427595034541,
          0.004947436109300721,
          0.004917286669930273,
          0.0048785989404393,
          0.004832002447266162,
          0.004778129607147777,
          0.0047176095617716286,
          0.004651062802104516,
          0.004579096552627883,
          0.004502300876397308,
          0.004421245455067186,
          0.004336476993452048,
          0.0042485171955102844,
          0.004157861257527639,
          0.004064976824461436,
          0.003970303356622667,
          0.0038742518558904154,
          0.003777204903268698,
          0.003679516962634164,
          0.003581514908836271,
          0.0034834987417754174,
          0.0033857424515980755,
          0.0032884950036302847,
          0.003191981415058817,
          0.0030964038986150888,
          0.0030019430515860006,
          0.00290875907134503,
          0.0028169929812515227,
          0.0027267678531997666,
          0.002638190015311218,
          0.0025513502352569307,
          0.002466324871480509,
          0.0023831769861745854,
          0.0023019574152578705,
          0.0022227057918182865,
          0.0021454515205439895,
          0.0020702147015723015,
          0.001997007002960209,
          0.001925832481632535,
          0.0018566883532078573,
          0.0017895657115499092,
          0.0017244501992545985,
          0.001661322630570646,
          0.0016001595684745885,
          0.0015409338577872297,
          0.0014836151163367876,
          0.0014281701862506322,
          0.001374563547499459,
          0.0013227576958304323,
          0.001272713487214259,
          0.0012243904508998334,
          0.001177747073122825,
          0.0011327410534546433,
          0.0010893295357085723,
          0.0010474693152430206,
          0.0010071170244197506,
          0.0009682292978895873,
          0.0009307629192908802,
          0.0008946749508581401,
          0.0008599228473508301,
          0.0008264645556261945,
          0.0007942586010956997,
          0.0007632641622229448,
          0.000733441134141962,
          0.000704750182399048,
          0.0006771527877488918,
          0.0006506112828668632,
          0.0006250888817739865,
          0.0006005497027094162,
          0.0005769587851270523,
          0.0005542821014383248,
          0.000532486564071934,
          0.0005115400283735333,
          0.0004914112918236147,
          0.0004720700900103677,
          0.00045348708975562294,
          0.0004356338797561862,
          0.00041848295906974053,
          0.0004020077237438166,
          0.00038618245185807835,
          0.0003709822872241114,
          0.0003563832219629242,
          0.0003423620781583542,
          0.0003288964887643656,
          0.00031596487792570844,
          0.0003035464408544687,
          0.00029162112338957866,
          0.0002801696013522008,
          0.0002691732597970583,
          0.0002586141722480535,
          0.0002484750799958751,
          0.00023873937152562514,
          0.00022939106213375727,
          0.0002204147737856696,
          0.00021179571525815357,
          0.00020351966260443423,
          0.00019557293997371752,
          0.00018794240081193063,
          0.00018061540946565481,
          0.00017357982320703762,
          0.00016682397469372094,
          0.00016033665487447278,
          0.0001541070963482275,
          0.0001481249571816099,
          0.00014238030518766713,
          0.00013686360266649305,
          0.0001315656916066066,
          0.00012647777934438306,
          0.00012159142467744993,
          0.0001168985244267835,
          0.00011239130044121707,
          0.00010806228703719693,
          0.0001039043188659006,
          0.00009991051919920369,
          0.00009607428862548967,
          0.00009238929414588023,
          0.00008884945866114632,
          0.00008544895083931756,
          0.00008218217535382667,
          0.0000790437634819147,
          0.00007602856405295872,
          0.00007313163473636826,
          0.00007034823365872325,
          0.00006767381133988952,
          0.00006510400293793552,
          0.00006263462079280229,
          0.000060261647258814394,
          0.00005798122781628331,
          0.00005578966445263909,
          0.00005368340930371134,
          0.00005165905854598951,
          0.00004971334653090518,
          0.000047843140152397875,
          0.000046045433439253026,
          0.00004431734236392849,
          0.00004265609985982143,
          0.00004105905103915577,
          0.00003952364860390981,
          0.0000380474484424302,
          0.000036628105404615275,
          0.00003526336924877649,
          0.00003395108075351383,
          0.000032689167988164996,
          0.0000314756427356055,
          0.000030308597061394346,
          0.000029186200023468334,
          0.000028106694516795513,
          0.0000270683942475994,
          0.000026069680831959932,
          0.000025109001013791498,
          0.00002418486399738027,
          0.00002329583888984691,
          0.00002244055224907351,
          0.00002161768573280446,
          0.000020825973844796553,
          0.00002006420177405077
         ]
        }
       ],
       "layout": {
        "height": 500,
        "template": {
         "data": {
          "bar": [
           {
            "error_x": {
             "color": "#2a3f5f"
            },
            "error_y": {
             "color": "#2a3f5f"
            },
            "marker": {
             "line": {
              "color": "#E5ECF6",
              "width": 0.5
             },
             "pattern": {
              "fillmode": "overlay",
              "size": 10,
              "solidity": 0.2
             }
            },
            "type": "bar"
           }
          ],
          "barpolar": [
           {
            "marker": {
             "line": {
              "color": "#E5ECF6",
              "width": 0.5
             },
             "pattern": {
              "fillmode": "overlay",
              "size": 10,
              "solidity": 0.2
             }
            },
            "type": "barpolar"
           }
          ],
          "carpet": [
           {
            "aaxis": {
             "endlinecolor": "#2a3f5f",
             "gridcolor": "white",
             "linecolor": "white",
             "minorgridcolor": "white",
             "startlinecolor": "#2a3f5f"
            },
            "baxis": {
             "endlinecolor": "#2a3f5f",
             "gridcolor": "white",
             "linecolor": "white",
             "minorgridcolor": "white",
             "startlinecolor": "#2a3f5f"
            },
            "type": "carpet"
           }
          ],
          "choropleth": [
           {
            "colorbar": {
             "outlinewidth": 0,
             "ticks": ""
            },
            "type": "choropleth"
           }
          ],
          "contour": [
           {
            "colorbar": {
             "outlinewidth": 0,
             "ticks": ""
            },
            "colorscale": [
             [
              0,
              "#0d0887"
             ],
             [
              0.1111111111111111,
              "#46039f"
             ],
             [
              0.2222222222222222,
              "#7201a8"
             ],
             [
              0.3333333333333333,
              "#9c179e"
             ],
             [
              0.4444444444444444,
              "#bd3786"
             ],
             [
              0.5555555555555556,
              "#d8576b"
             ],
             [
              0.6666666666666666,
              "#ed7953"
             ],
             [
              0.7777777777777778,
              "#fb9f3a"
             ],
             [
              0.8888888888888888,
              "#fdca26"
             ],
             [
              1,
              "#f0f921"
             ]
            ],
            "type": "contour"
           }
          ],
          "contourcarpet": [
           {
            "colorbar": {
             "outlinewidth": 0,
             "ticks": ""
            },
            "type": "contourcarpet"
           }
          ],
          "heatmap": [
           {
            "colorbar": {
             "outlinewidth": 0,
             "ticks": ""
            },
            "colorscale": [
             [
              0,
              "#0d0887"
             ],
             [
              0.1111111111111111,
              "#46039f"
             ],
             [
              0.2222222222222222,
              "#7201a8"
             ],
             [
              0.3333333333333333,
              "#9c179e"
             ],
             [
              0.4444444444444444,
              "#bd3786"
             ],
             [
              0.5555555555555556,
              "#d8576b"
             ],
             [
              0.6666666666666666,
              "#ed7953"
             ],
             [
              0.7777777777777778,
              "#fb9f3a"
             ],
             [
              0.8888888888888888,
              "#fdca26"
             ],
             [
              1,
              "#f0f921"
             ]
            ],
            "type": "heatmap"
           }
          ],
          "heatmapgl": [
           {
            "colorbar": {
             "outlinewidth": 0,
             "ticks": ""
            },
            "colorscale": [
             [
              0,
              "#0d0887"
             ],
             [
              0.1111111111111111,
              "#46039f"
             ],
             [
              0.2222222222222222,
              "#7201a8"
             ],
             [
              0.3333333333333333,
              "#9c179e"
             ],
             [
              0.4444444444444444,
              "#bd3786"
             ],
             [
              0.5555555555555556,
              "#d8576b"
             ],
             [
              0.6666666666666666,
              "#ed7953"
             ],
             [
              0.7777777777777778,
              "#fb9f3a"
             ],
             [
              0.8888888888888888,
              "#fdca26"
             ],
             [
              1,
              "#f0f921"
             ]
            ],
            "type": "heatmapgl"
           }
          ],
          "histogram": [
           {
            "marker": {
             "pattern": {
              "fillmode": "overlay",
              "size": 10,
              "solidity": 0.2
             }
            },
            "type": "histogram"
           }
          ],
          "histogram2d": [
           {
            "colorbar": {
             "outlinewidth": 0,
             "ticks": ""
            },
            "colorscale": [
             [
              0,
              "#0d0887"
             ],
             [
              0.1111111111111111,
              "#46039f"
             ],
             [
              0.2222222222222222,
              "#7201a8"
             ],
             [
              0.3333333333333333,
              "#9c179e"
             ],
             [
              0.4444444444444444,
              "#bd3786"
             ],
             [
              0.5555555555555556,
              "#d8576b"
             ],
             [
              0.6666666666666666,
              "#ed7953"
             ],
             [
              0.7777777777777778,
              "#fb9f3a"
             ],
             [
              0.8888888888888888,
              "#fdca26"
             ],
             [
              1,
              "#f0f921"
             ]
            ],
            "type": "histogram2d"
           }
          ],
          "histogram2dcontour": [
           {
            "colorbar": {
             "outlinewidth": 0,
             "ticks": ""
            },
            "colorscale": [
             [
              0,
              "#0d0887"
             ],
             [
              0.1111111111111111,
              "#46039f"
             ],
             [
              0.2222222222222222,
              "#7201a8"
             ],
             [
              0.3333333333333333,
              "#9c179e"
             ],
             [
              0.4444444444444444,
              "#bd3786"
             ],
             [
              0.5555555555555556,
              "#d8576b"
             ],
             [
              0.6666666666666666,
              "#ed7953"
             ],
             [
              0.7777777777777778,
              "#fb9f3a"
             ],
             [
              0.8888888888888888,
              "#fdca26"
             ],
             [
              1,
              "#f0f921"
             ]
            ],
            "type": "histogram2dcontour"
           }
          ],
          "mesh3d": [
           {
            "colorbar": {
             "outlinewidth": 0,
             "ticks": ""
            },
            "type": "mesh3d"
           }
          ],
          "parcoords": [
           {
            "line": {
             "colorbar": {
              "outlinewidth": 0,
              "ticks": ""
             }
            },
            "type": "parcoords"
           }
          ],
          "pie": [
           {
            "automargin": true,
            "type": "pie"
           }
          ],
          "scatter": [
           {
            "fillpattern": {
             "fillmode": "overlay",
             "size": 10,
             "solidity": 0.2
            },
            "type": "scatter"
           }
          ],
          "scatter3d": [
           {
            "line": {
             "colorbar": {
              "outlinewidth": 0,
              "ticks": ""
             }
            },
            "marker": {
             "colorbar": {
              "outlinewidth": 0,
              "ticks": ""
             }
            },
            "type": "scatter3d"
           }
          ],
          "scattercarpet": [
           {
            "marker": {
             "colorbar": {
              "outlinewidth": 0,
              "ticks": ""
             }
            },
            "type": "scattercarpet"
           }
          ],
          "scattergeo": [
           {
            "marker": {
             "colorbar": {
              "outlinewidth": 0,
              "ticks": ""
             }
            },
            "type": "scattergeo"
           }
          ],
          "scattergl": [
           {
            "marker": {
             "colorbar": {
              "outlinewidth": 0,
              "ticks": ""
             }
            },
            "type": "scattergl"
           }
          ],
          "scattermapbox": [
           {
            "marker": {
             "colorbar": {
              "outlinewidth": 0,
              "ticks": ""
             }
            },
            "type": "scattermapbox"
           }
          ],
          "scatterpolar": [
           {
            "marker": {
             "colorbar": {
              "outlinewidth": 0,
              "ticks": ""
             }
            },
            "type": "scatterpolar"
           }
          ],
          "scatterpolargl": [
           {
            "marker": {
             "colorbar": {
              "outlinewidth": 0,
              "ticks": ""
             }
            },
            "type": "scatterpolargl"
           }
          ],
          "scatterternary": [
           {
            "marker": {
             "colorbar": {
              "outlinewidth": 0,
              "ticks": ""
             }
            },
            "type": "scatterternary"
           }
          ],
          "surface": [
           {
            "colorbar": {
             "outlinewidth": 0,
             "ticks": ""
            },
            "colorscale": [
             [
              0,
              "#0d0887"
             ],
             [
              0.1111111111111111,
              "#46039f"
             ],
             [
              0.2222222222222222,
              "#7201a8"
             ],
             [
              0.3333333333333333,
              "#9c179e"
             ],
             [
              0.4444444444444444,
              "#bd3786"
             ],
             [
              0.5555555555555556,
              "#d8576b"
             ],
             [
              0.6666666666666666,
              "#ed7953"
             ],
             [
              0.7777777777777778,
              "#fb9f3a"
             ],
             [
              0.8888888888888888,
              "#fdca26"
             ],
             [
              1,
              "#f0f921"
             ]
            ],
            "type": "surface"
           }
          ],
          "table": [
           {
            "cells": {
             "fill": {
              "color": "#EBF0F8"
             },
             "line": {
              "color": "white"
             }
            },
            "header": {
             "fill": {
              "color": "#C8D4E3"
             },
             "line": {
              "color": "white"
             }
            },
            "type": "table"
           }
          ]
         },
         "layout": {
          "annotationdefaults": {
           "arrowcolor": "#2a3f5f",
           "arrowhead": 0,
           "arrowwidth": 1
          },
          "autotypenumbers": "strict",
          "coloraxis": {
           "colorbar": {
            "outlinewidth": 0,
            "ticks": ""
           }
          },
          "colorscale": {
           "diverging": [
            [
             0,
             "#8e0152"
            ],
            [
             0.1,
             "#c51b7d"
            ],
            [
             0.2,
             "#de77ae"
            ],
            [
             0.3,
             "#f1b6da"
            ],
            [
             0.4,
             "#fde0ef"
            ],
            [
             0.5,
             "#f7f7f7"
            ],
            [
             0.6,
             "#e6f5d0"
            ],
            [
             0.7,
             "#b8e186"
            ],
            [
             0.8,
             "#7fbc41"
            ],
            [
             0.9,
             "#4d9221"
            ],
            [
             1,
             "#276419"
            ]
           ],
           "sequential": [
            [
             0,
             "#0d0887"
            ],
            [
             0.1111111111111111,
             "#46039f"
            ],
            [
             0.2222222222222222,
             "#7201a8"
            ],
            [
             0.3333333333333333,
             "#9c179e"
            ],
            [
             0.4444444444444444,
             "#bd3786"
            ],
            [
             0.5555555555555556,
             "#d8576b"
            ],
            [
             0.6666666666666666,
             "#ed7953"
            ],
            [
             0.7777777777777778,
             "#fb9f3a"
            ],
            [
             0.8888888888888888,
             "#fdca26"
            ],
            [
             1,
             "#f0f921"
            ]
           ],
           "sequentialminus": [
            [
             0,
             "#0d0887"
            ],
            [
             0.1111111111111111,
             "#46039f"
            ],
            [
             0.2222222222222222,
             "#7201a8"
            ],
            [
             0.3333333333333333,
             "#9c179e"
            ],
            [
             0.4444444444444444,
             "#bd3786"
            ],
            [
             0.5555555555555556,
             "#d8576b"
            ],
            [
             0.6666666666666666,
             "#ed7953"
            ],
            [
             0.7777777777777778,
             "#fb9f3a"
            ],
            [
             0.8888888888888888,
             "#fdca26"
            ],
            [
             1,
             "#f0f921"
            ]
           ]
          },
          "colorway": [
           "#636efa",
           "#EF553B",
           "#00cc96",
           "#ab63fa",
           "#FFA15A",
           "#19d3f3",
           "#FF6692",
           "#B6E880",
           "#FF97FF",
           "#FECB52"
          ],
          "font": {
           "color": "#2a3f5f"
          },
          "geo": {
           "bgcolor": "white",
           "lakecolor": "white",
           "landcolor": "#E5ECF6",
           "showlakes": true,
           "showland": true,
           "subunitcolor": "white"
          },
          "hoverlabel": {
           "align": "left"
          },
          "hovermode": "closest",
          "mapbox": {
           "style": "light"
          },
          "paper_bgcolor": "white",
          "plot_bgcolor": "#E5ECF6",
          "polar": {
           "angularaxis": {
            "gridcolor": "white",
            "linecolor": "white",
            "ticks": ""
           },
           "bgcolor": "#E5ECF6",
           "radialaxis": {
            "gridcolor": "white",
            "linecolor": "white",
            "ticks": ""
           }
          },
          "scene": {
           "xaxis": {
            "backgroundcolor": "#E5ECF6",
            "gridcolor": "white",
            "gridwidth": 2,
            "linecolor": "white",
            "showbackground": true,
            "ticks": "",
            "zerolinecolor": "white"
           },
           "yaxis": {
            "backgroundcolor": "#E5ECF6",
            "gridcolor": "white",
            "gridwidth": 2,
            "linecolor": "white",
            "showbackground": true,
            "ticks": "",
            "zerolinecolor": "white"
           },
           "zaxis": {
            "backgroundcolor": "#E5ECF6",
            "gridcolor": "white",
            "gridwidth": 2,
            "linecolor": "white",
            "showbackground": true,
            "ticks": "",
            "zerolinecolor": "white"
           }
          },
          "shapedefaults": {
           "line": {
            "color": "#2a3f5f"
           }
          },
          "ternary": {
           "aaxis": {
            "gridcolor": "white",
            "linecolor": "white",
            "ticks": ""
           },
           "baxis": {
            "gridcolor": "white",
            "linecolor": "white",
            "ticks": ""
           },
           "bgcolor": "#E5ECF6",
           "caxis": {
            "gridcolor": "white",
            "linecolor": "white",
            "ticks": ""
           }
          },
          "title": {
           "x": 0.05
          },
          "xaxis": {
           "automargin": true,
           "gridcolor": "white",
           "linecolor": "white",
           "ticks": "",
           "title": {
            "standoff": 15
           },
           "zerolinecolor": "white",
           "zerolinewidth": 2
          },
          "yaxis": {
           "automargin": true,
           "gridcolor": "white",
           "linecolor": "white",
           "ticks": "",
           "title": {
            "standoff": 15
           },
           "zerolinecolor": "white",
           "zerolinewidth": 2
          }
         }
        },
        "title": {
         "text": "🎯 GEV Fit: 🔵 Gumbel-like (Medium Tail)"
        },
        "xaxis": {
         "title": {
          "text": "Peak Flow (m³/s)"
         }
        },
        "yaxis": {
         "title": {
          "text": "Probability Density"
         }
        }
       }
      }
     },
     "metadata": {},
     "output_type": "display_data"
    },
    {
     "name": "stdout",
     "output_type": "stream",
     "text": [
      "\n",
      "👀 How does it look?\n",
      "   The red line should follow the blue bars reasonably well\n",
      "   If it does, our GEV model is good to use! ✅\n"
     ]
    }
   ],
   "source": [
    "# Step 1: Fit GEV distribution (super easy!)\n",
    "print(\"🔧 Fitting GEV to our flood data...\")\n",
    "\n",
    "# This one line does all the complex math!\n",
    "gev_params = stats.genextreme.fit(flood_flows)\n",
    "shape_scipy, location, scale = gev_params\n",
    "\n",
    "# Convert to standard convention\n",
    "shape = -shape_scipy  # Convert scipy convention to hydrology convention\n",
    "\n",
    "print(\"\\n📊 Results:\")\n",
    "print(f\"Shape (ξ): {shape:.4f}\")\n",
    "print(f\"Location (μ): {location:.1f} m³/s\")\n",
    "print(f\"Scale (σ): {scale:.1f} m³/s\")\n",
    "\n",
    "# Step 2: What type did we get?\n",
    "print(\"\\n🎯 What type is this?\")\n",
    "if shape > 0.05:\n",
    "    gev_type = \"🔴 Fréchet (Heavy Tail)\"\n",
    "    meaning = \"Extreme floods more likely than Gumbel predicts\"\n",
    "    advice = \"Use conservative design approach!\"\n",
    "    color = 'red'\n",
    "elif shape < -0.05:\n",
    "    gev_type = \"🟢 Weibull (Light Tail)\"\n",
    "    meaning = \"Extreme floods are naturally limited\"\n",
    "    advice = \"Standard design procedures OK\"\n",
    "    color = 'green'\n",
    "else:\n",
    "    gev_type = \"🔵 Gumbel-like (Medium Tail)\"\n",
    "    meaning = \"Standard extreme behavior - like regular Gumbel\"\n",
    "    advice = \"Either GEV or Gumbel will work fine\"\n",
    "    color = 'blue'\n",
    "\n",
    "print(f\"Type: {gev_type}\")\n",
    "print(f\"Meaning: {meaning}\")\n",
    "print(f\"Engineering advice: {advice}\")\n",
    "\n",
    "# Step 3: Visual check - does it fit our data?\n",
    "fig = go.Figure()\n",
    "\n",
    "# Plot our data as histogram\n",
    "fig.add_trace(go.Histogram(\n",
    "    x=flood_flows, nbinsx=12, histnorm='probability density',\n",
    "    name='Our Flood Data', opacity=0.7, marker_color='lightblue'\n",
    "))\n",
    "\n",
    "# Plot fitted GEV\n",
    "x_range = np.linspace(min(flood_flows)*0.8, max(flood_flows)*1.2, 200)\n",
    "gev_pdf = stats.genextreme.pdf(x_range, *gev_params)\n",
    "\n",
    "fig.add_trace(go.Scatter(\n",
    "    x=x_range, y=gev_pdf, mode='lines',\n",
    "    name='GEV Fit', line=dict(color=color, width=4)\n",
    "))\n",
    "\n",
    "fig.update_layout(\n",
    "    title=f'🎯 GEV Fit: {gev_type}',\n",
    "    xaxis_title='Peak Flow (m³/s)',\n",
    "    yaxis_title='Probability Density',\n",
    "    height=500\n",
    ")\n",
    "\n",
    "fig.show()\n",
    "\n",
    "print(\"\\n👀 How does it look?\")\n",
    "print(\"   The red line should follow the blue bars reasonably well\")\n",
    "print(\"   If it does, our GEV model is good to use! ✅\")"
   ]
  },
  {
   "cell_type": "markdown",
   "metadata": {},
   "source": [
    "---\n",
    "\n",
    "# 🆚 Part 4: Gumbel vs GEV Comparison\n",
    "\n",
    "Let's compare **Gumbel** (what you know) vs **GEV** (the improved version) using our data!"
   ]
  },
  {
   "cell_type": "code",
   "execution_count": 20,
   "metadata": {},
   "outputs": [
    {
     "name": "stdout",
     "output_type": "stream",
     "text": [
      "🔧 Fitting both distributions to our flood data...\n",
      "\n",
      "📊 Parameter Comparison:\n",
      "Gumbel:  Location = 240.0, Scale = 74.8, Shape = 0 (fixed)\n",
      "GEV:     Location = 238.5, Scale = 73.9, Shape = 0.037 (flexible)\n"
     ]
    },
    {
     "data": {
      "application/vnd.plotly.v1+json": {
       "config": {
        "plotlyServerURL": "https://plot.ly"
       },
       "data": [
        {
         "histnorm": "probability density",
         "marker": {
          "color": "lightgray"
         },
         "name": "📊 Our Data",
         "nbinsx": 12,
         "opacity": 0.6,
         "type": "histogram",
         "x": [
          334,
          203,
          197,
          183,
          567,
          255,
          217,
          335,
          285,
          292,
          173,
          229,
          288,
          349,
          386,
          348,
          229,
          367,
          309,
          160,
          277,
          257,
          244,
          238,
          238,
          356,
          345,
          117,
          179,
          409,
          251,
          251,
          328,
          204,
          248,
          230,
          220,
          304,
          189,
          634,
          331,
          275,
          475,
          284,
          190,
          469,
          222,
          327,
          251,
          147
         ]
        },
        {
         "line": {
          "color": "blue",
          "width": 3
         },
         "mode": "lines",
         "name": "🔵 Gumbel",
         "type": "scatter",
         "x": [
          93.60000000000001,
          97.2713567839196,
          100.9427135678392,
          104.6140703517588,
          108.2854271356784,
          111.956783919598,
          115.6281407035176,
          119.2994974874372,
          122.97085427135679,
          126.64221105527639,
          130.313567839196,
          133.9849246231156,
          137.65628140703518,
          141.3276381909548,
          144.9989949748744,
          148.67035175879397,
          152.34170854271358,
          156.01306532663318,
          159.68442211055276,
          163.35577889447237,
          167.02713567839197,
          170.69849246231155,
          174.36984924623118,
          178.04120603015076,
          181.71256281407034,
          185.38391959798997,
          189.05527638190955,
          192.72663316582916,
          196.39798994974876,
          200.06934673366834,
          203.74070351758795,
          207.41206030150755,
          211.08341708542713,
          214.75477386934674,
          218.42613065326634,
          222.09748743718592,
          225.76884422110555,
          229.44020100502513,
          233.1115577889447,
          236.78291457286434,
          240.45427135678392,
          244.1256281407035,
          247.79698492462313,
          251.4683417085427,
          255.13969849246234,
          258.8110552763819,
          262.4824120603015,
          266.15376884422113,
          269.8251256281407,
          273.4964824120603,
          277.1678391959799,
          280.8391959798995,
          284.5105527638191,
          288.1819095477387,
          291.8532663316583,
          295.5246231155779,
          299.1959798994975,
          302.8673366834171,
          306.5386934673367,
          310.2100502512563,
          313.88140703517587,
          317.5527638190955,
          321.2241206030151,
          324.89547738693466,
          328.5668341708543,
          332.23819095477387,
          335.90954773869345,
          339.5809045226131,
          343.25226130653266,
          346.9236180904523,
          350.59497487437187,
          354.2663316582915,
          357.9376884422111,
          361.60904522613066,
          365.2804020100503,
          368.9517587939699,
          372.62311557788945,
          376.2944723618091,
          379.96582914572866,
          383.63718592964824,
          387.3085427135679,
          390.97989949748745,
          394.65125628140703,
          398.32261306532666,
          401.99396984924624,
          405.6653266331659,
          409.33668341708545,
          413.00804020100503,
          416.67939698492467,
          420.35075376884424,
          424.0221105527638,
          427.69346733668345,
          431.36482412060303,
          435.0361809045226,
          438.70753768844224,
          442.3788944723618,
          446.0502512562814,
          449.72160804020103,
          453.3929648241206,
          457.06432160804025,
          460.7356783919598,
          464.4070351758794,
          468.07839195979903,
          471.7497487437186,
          475.4211055276382,
          479.0924623115578,
          482.7638190954774,
          486.435175879397,
          490.1065326633166,
          493.7778894472362,
          497.4492462311558,
          501.1206030150754,
          504.791959798995,
          508.4633165829146,
          512.1346733668341,
          515.8060301507537,
          519.4773869346734,
          523.148743718593,
          526.8201005025126,
          530.4914572864321,
          534.1628140703517,
          537.8341708542713,
          541.505527638191,
          545.1768844221106,
          548.8482412060301,
          552.5195979899497,
          556.1909547738693,
          559.862311557789,
          563.5336683417086,
          567.2050251256281,
          570.8763819095477,
          574.5477386934673,
          578.2190954773869,
          581.8904522613066,
          585.5618090452261,
          589.2331658291457,
          592.9045226130653,
          596.5758793969849,
          600.2472361809046,
          603.9185929648241,
          607.5899497487437,
          611.2613065326633,
          614.932663316583,
          618.6040201005026,
          622.2753768844221,
          625.9467336683417,
          629.6180904522613,
          633.2894472361809,
          636.9608040201006,
          640.6321608040201,
          644.3035175879397,
          647.9748743718593,
          651.6462311557789,
          655.3175879396985,
          658.9889447236181,
          662.6603015075377,
          666.3316582914573,
          670.0030150753769,
          673.6743718592965,
          677.3457286432161,
          681.0170854271357,
          684.6884422110553,
          688.3597989949749,
          692.0311557788945,
          695.702512562814,
          699.3738693467337,
          703.0452261306533,
          706.7165829145729,
          710.3879396984925,
          714.059296482412,
          717.7306532663317,
          721.4020100502513,
          725.0733668341709,
          728.7447236180905,
          732.41608040201,
          736.0874371859296,
          739.7587939698493,
          743.4301507537689,
          747.1015075376885,
          750.772864321608,
          754.4442211055276,
          758.1155778894473,
          761.7869346733669,
          765.4582914572865,
          769.129648241206,
          772.8010050251256,
          776.4723618090452,
          780.1437185929649,
          783.8150753768845,
          787.486432160804,
          791.1577889447236,
          794.8291457286432,
          798.5005025125628,
          802.1718592964825,
          805.843216080402,
          809.5145728643216,
          813.1859296482412,
          816.8572864321608,
          820.5286432160805,
          824.2
         ],
         "y": [
          0.00007958779044942032,
          0.00010638561499656217,
          0.0001399132434736601,
          0.00018118093296669264,
          0.0002311883773112062,
          0.0002908881262660662,
          0.00036114736096281273,
          0.0004427099916535149,
          0.0005361610767408301,
          0.0006418954477203444,
          0.0007600921783798032,
          0.0008906961849417098,
          0.0010334078206997667,
          0.001187680871145126,
          0.0013527288998826954,
          0.0015275394740062538,
          0.0017108954357948605,
          0.0019014021035780766,
          0.00209751908819053,
          0.0022975953046808317,
          0.0024999057373038826,
          0.0027026885695861104,
          0.0029041814071486868,
          0.003102655483814071,
          0.003296446935633878,
          0.0034839844378953527,
          0.003663812713520429,
          0.003834611626371073,
          0.00399521076109611,
          0.004144599556104364,
          0.004281933194227296,
          0.004406534564971972,
          0.00451789269307462,
          0.0046156580818590654,
          0.00469963544921322,
          0.004769774342012006,
          0.0048261581050766,
          0.004868991656897412,
          0.004898588489877442,
          0.0049153572710283555,
          0.0049197883727675334,
          0.004912440615199876,
          0.00489392845306566,
          0.004864909794009407,
          0.004826074591185367,
          0.0047781343133110835,
          0.004721812359643743,
          0.004657835456251544,
          0.004586926043435632,
          0.004509795642110869,
          0.004427139169134472,
          0.00433963015765226,
          0.0042479168281293,
          0.0041526189484338855,
          0.004054325416731474,
          0.0039535924986086055,
          0.003850942649396184,
          0.0037468638537360905,
          0.0036418094167084522,
          0.003536198144018434,
          0.0034304148525786836,
          0.003324811157099688,
          0.003219706482833713,
          0.00311538925925873,
          0.0030121182541162084,
          0.0029101240117359174,
          0.002809610363919827,
          0.002710755985763145,
          0.002613715972627128,
          0.0025186234180232018,
          0.0024255909754098393,
          0.0023347123898401346,
          0.002246063988034094,
          0.0021597061177951833,
          0.0020756845297598965,
          0.0019940316962786366,
          0.0019147680637945977,
          0.0018379032364340942,
          0.0017634370896665212,
          0.001691360813854488,
          0.0016216578883135962,
          0.0015543049871549201,
          0.0014892728187085639,
          0.0014265269007397291,
          0.0013660282739840562,
          0.0013077341567601266,
          0.0012515985435760932,
          0.0011975727507453262,
          0.0011456059120725978,
          0.0010956454276762739,
          0.0010476373689809644,
          0.0010015268428557786,
          0.000957258317791567,
          0.000914775914911375,
          0.0008740236664961005,
          0.0008349457445857624,
          0.0007974866620888856,
          0.0007615914487010641,
          0.0007272058038007698,
          0.0006942762283578524,
          0.0006627501377593353,
          0.0006325759573291441,
          0.0006037032021943358,
          0.0005760825430307949,
          0.0005496658591067897,
          0.0005244062799336163,
          0.0005002582167289433,
          0.0004771773848005832,
          0.0004551208178662755,
          0.0004340468752386032,
          0.0004139152427232838,
          0.0003946869280036647,
          0.0003763242512140745,
          0.0003587908313395757,
          0.00034205156901938967,
          0.0003260726262755662,
          0.0003108214036371491,
          0.00029626651508284454,
          0.00028237776118182574,
          0.0002691261007725529,
          0.000256483621483099,
          0.00024442350936324084,
          0.00023292001786826585,
          0.00022194843640686548,
          0.00021148505864039164,
          0.00020150715069802418,
          0.0001919929194517658,
          0.00018292148097655807,
          0.0001742728293039792,
          0.00016602780556282544,
          0.00015816806758624208,
          0.00015067606005282437,
          0.0001435349852181352,
          0.0001367287742832876,
          0.00013024205943847886,
          0.00012406014661158138,
          0.00011816898894498128,
          0.0001125551610177359,
          0.0001072058338247172,
          0.00010210875051966105,
          0.00009725220292487558,
          0.00009262500880673052,
          0.00008821648991289065,
          0.0000840164507645329,
          0.00008001515819444071,
          0.00007620332161988014,
          0.00007257207403747065,
          0.00006911295372585647,
          0.00006581788664082202,
          0.00006267916948655026,
          0.000059689453445972276,
          0.00005684172855258465,
          0.000054129308685681017,
          0.000051545817170658196,
          0.00004908517296588282,
          0.000046741577417536255,
          0.000044509501563872646,
          0.00004238367397042771,
          0.000040359069077875084,
          0.00003843089604445326,
          0.0000365945880651553,
          0.000034845792150185246,
          0.000033180359345533456,
          0.00003159433537889572,
          0.000030083951714560113,
          0.000028645617001299917,
          0.000027275908897741933,
          0.00002597156626011746,
          0.00002472948167775167,
          0.00002354669434209537,
          0.000022420383235557575,
          0.000021347860626846834,
          0.000020326565859978213,
          0.000019354059424549193,
          0.000018428017295324177,
          0.000017546225529601614,
          0.000016706575111261493,
          0.000015907057030807027,
          0.000015145757591121237,
          0.000014420853929056549,
          0.000013730609743361583,
          0.000013073371219826505,
          0.000012447563144893359,
          0.000011851685199332732,
          0.000011284308423931613,
          0.000010744071849470373,
          0.000010229679283587922,
          0.000009739896247445245,
          0.000009273547055397461,
          0.000008829512031173347,
          0.000008406724854340803,
          0.000008004170031104354,
          0.00000762088048373969,
          0.000007255935253218457,
          0.000006908457309815404,
          0.000006577611466719285,
          0.000006262602391889664,
          0.000005962672713612628,
          0.0000056771012154117725,
          0.000005405201116165203
         ]
        },
        {
         "line": {
          "color": "red",
          "width": 3
         },
         "mode": "lines",
         "name": "🔴 GEV",
         "type": "scatter",
         "x": [
          93.60000000000001,
          97.2713567839196,
          100.9427135678392,
          104.6140703517588,
          108.2854271356784,
          111.956783919598,
          115.6281407035176,
          119.2994974874372,
          122.97085427135679,
          126.64221105527639,
          130.313567839196,
          133.9849246231156,
          137.65628140703518,
          141.3276381909548,
          144.9989949748744,
          148.67035175879397,
          152.34170854271358,
          156.01306532663318,
          159.68442211055276,
          163.35577889447237,
          167.02713567839197,
          170.69849246231155,
          174.36984924623118,
          178.04120603015076,
          181.71256281407034,
          185.38391959798997,
          189.05527638190955,
          192.72663316582916,
          196.39798994974876,
          200.06934673366834,
          203.74070351758795,
          207.41206030150755,
          211.08341708542713,
          214.75477386934674,
          218.42613065326634,
          222.09748743718592,
          225.76884422110555,
          229.44020100502513,
          233.1115577889447,
          236.78291457286434,
          240.45427135678392,
          244.1256281407035,
          247.79698492462313,
          251.4683417085427,
          255.13969849246234,
          258.8110552763819,
          262.4824120603015,
          266.15376884422113,
          269.8251256281407,
          273.4964824120603,
          277.1678391959799,
          280.8391959798995,
          284.5105527638191,
          288.1819095477387,
          291.8532663316583,
          295.5246231155779,
          299.1959798994975,
          302.8673366834171,
          306.5386934673367,
          310.2100502512563,
          313.88140703517587,
          317.5527638190955,
          321.2241206030151,
          324.89547738693466,
          328.5668341708543,
          332.23819095477387,
          335.90954773869345,
          339.5809045226131,
          343.25226130653266,
          346.9236180904523,
          350.59497487437187,
          354.2663316582915,
          357.9376884422111,
          361.60904522613066,
          365.2804020100503,
          368.9517587939699,
          372.62311557788945,
          376.2944723618091,
          379.96582914572866,
          383.63718592964824,
          387.3085427135679,
          390.97989949748745,
          394.65125628140703,
          398.32261306532666,
          401.99396984924624,
          405.6653266331659,
          409.33668341708545,
          413.00804020100503,
          416.67939698492467,
          420.35075376884424,
          424.0221105527638,
          427.69346733668345,
          431.36482412060303,
          435.0361809045226,
          438.70753768844224,
          442.3788944723618,
          446.0502512562814,
          449.72160804020103,
          453.3929648241206,
          457.06432160804025,
          460.7356783919598,
          464.4070351758794,
          468.07839195979903,
          471.7497487437186,
          475.4211055276382,
          479.0924623115578,
          482.7638190954774,
          486.435175879397,
          490.1065326633166,
          493.7778894472362,
          497.4492462311558,
          501.1206030150754,
          504.791959798995,
          508.4633165829146,
          512.1346733668341,
          515.8060301507537,
          519.4773869346734,
          523.148743718593,
          526.8201005025126,
          530.4914572864321,
          534.1628140703517,
          537.8341708542713,
          541.505527638191,
          545.1768844221106,
          548.8482412060301,
          552.5195979899497,
          556.1909547738693,
          559.862311557789,
          563.5336683417086,
          567.2050251256281,
          570.8763819095477,
          574.5477386934673,
          578.2190954773869,
          581.8904522613066,
          585.5618090452261,
          589.2331658291457,
          592.9045226130653,
          596.5758793969849,
          600.2472361809046,
          603.9185929648241,
          607.5899497487437,
          611.2613065326633,
          614.932663316583,
          618.6040201005026,
          622.2753768844221,
          625.9467336683417,
          629.6180904522613,
          633.2894472361809,
          636.9608040201006,
          640.6321608040201,
          644.3035175879397,
          647.9748743718593,
          651.6462311557789,
          655.3175879396985,
          658.9889447236181,
          662.6603015075377,
          666.3316582914573,
          670.0030150753769,
          673.6743718592965,
          677.3457286432161,
          681.0170854271357,
          684.6884422110553,
          688.3597989949749,
          692.0311557788945,
          695.702512562814,
          699.3738693467337,
          703.0452261306533,
          706.7165829145729,
          710.3879396984925,
          714.059296482412,
          717.7306532663317,
          721.4020100502513,
          725.0733668341709,
          728.7447236180905,
          732.41608040201,
          736.0874371859296,
          739.7587939698493,
          743.4301507537689,
          747.1015075376885,
          750.772864321608,
          754.4442211055276,
          758.1155778894473,
          761.7869346733669,
          765.4582914572865,
          769.129648241206,
          772.8010050251256,
          776.4723618090452,
          780.1437185929649,
          783.8150753768845,
          787.486432160804,
          791.1577889447236,
          794.8291457286432,
          798.5005025125628,
          802.1718592964825,
          805.843216080402,
          809.5145728643216,
          813.1859296482412,
          816.8572864321608,
          820.5286432160805,
          824.2
         ],
         "y": [
          0.00005298432139035942,
          0.00007468137297366058,
          0.00010303581579604325,
          0.00013931416757502718,
          0.00018480925400474402,
          0.00024078839486943289,
          0.00030843691669493284,
          0.0003888004391189546,
          0.0004827295728567639,
          0.0005908305266095593,
          0.0007134246798808438,
          0.0008505195010894579,
          0.001001792357935908,
          0.0011665878692012778,
          0.0013439285693078232,
          0.0015325378711791484,
          0.0017308736725182355,
          0.0019371704876891037,
          0.0021494877133737067,
          0.0023657615445194092,
          0.0025838581272923013,
          0.002801625737979274,
          0.0030169440764090385,
          0.003227769124025159,
          0.0034321724070702072,
          0.0036283738957247403,
          0.003814768137516093,
          0.00398994355108816,
          0.0041526950837465935,
          0.004302030657713337,
          0.004437171994908934,
          0.004557550521014026,
          0.004662799111728033,
          0.00475274046430115,
          0.004827372863096912,
          0.004886854066808487,
          0.004931483984312489,
          0.0049616867326260205,
          0.004977992589778286,
          0.004981020272382806,
          0.004971459886080433,
          0.004950056819661883,
          0.004917596782572912,
          0.004874892121926561,
          0.004822769499757671,
          0.0047620589642323515,
          0.00469358440967384,
          0.004618155389121406,
          0.004536560219054103,
          0.004449560298130626,
          0.004357885549515083,
          0.004262230888765224,
          0.0041632536155724814,
          0.004061571627130733,
          0.003957762352908077,
          0.0038523623145118487,
          0.0037458672196577247,
          0.003638732505540376,
          0.0035313742537900292,
          0.003424170406386715,
          0.0033174622191526723,
          0.003211555896567166,
          0.0031067243585061986,
          0.00300320909600115,
          0.0029012220791665134,
          0.0028009476860253917,
          0.0027025446260419777,
          0.002606147836749157,
          0.002511870335945762,
          0.0024198050155509756,
          0.002330026366368458,
          0.0022425921257600394,
          0.002157544842591339,
          0.0020749133558232093,
          0.001994714184817781,
          0.00191695283083931,
          0.001841624990390071,
          0.0017687176819602573,
          0.0016982102885164116,
          0.00163007551863101,
          0.0015642802895901946,
          0.0015007865361282736,
          0.0014395519486457525,
          0.0013805306448890927,
          0.0013236737791200166,
          0.0012689300927931338,
          0.0012162464107042584,
          0.0011655680864778332,
          0.001116839401138867,
          0.0010700039183698207,
          0.001025004799892091,
          0.0009817850842402396,
          0.0009402879320190314,
          0.000900456840552346,
          0.0008622358306517813,
          0.0008255696080536803,
          0.0007904037018981098,
          0.000756684582453445,
          0.0007243597601266907,
          0.0006933778676432585,
          0.0006636887271311511,
          0.0006352434037036837,
          0.0006079942470021413,
          0.0005818949220351987,
          0.0005569004305353444,
          0.0005329671239438733,
          0.0005100527090349658,
          0.0004881162470956285,
          0.00046711814749164166,
          0.0004470201563696539,
          0.00042778534117192364,
          0.0004093780715725536,
          0.0003917639973820032,
          0.00037491002390987056,
          0.00035878428522404015,
          0.00034335611569695214,
          0.0003285960201866628,
          0.0003144756431611749,
          0.00030096773703895235,
          0.0002880461299863344,
          0.0002756856933833843,
          0.0002638623091434042,
          0.0002525528370475859,
          0.00024173508223490452,
          0.00023138776296814087,
          0.00022149047877968546,
          0.0002120236790853423,
          0.00020296863234053796,
          0.00019430739580104895,
          0.0001860227859393758,
          0.0001780983495581779,
          0.00017051833563353538,
          0.00016326766791319272,
          0.00015633191828820023,
          0.00014969728095048102,
          0.00014335054734366165,
          0.0001372790819100052,
          0.0001314707986323601,
          0.00012591413836665337,
          0.00012059804695754652,
          0.00011551195412738543,
          0.00011064575312647294,
          0.00010598978113092366,
          0.00010153480037289885,
          0.00009727197998681126,
          0.00009319287855414018,
          0.00008928942732873313,
          0.00008555391412390577,
          0.00008197896784224297,
          0.00007855754362873873,
          0.00007528290862776832,
          0.00007214862832435235,
          0.00006914855345023079,
          0.0000662768074354009,
          0.00006352777438598294,
          0.00006089608756953796,
          0.00005837661838927949,
          0.00005596446582897451,
          0.000053654946350716254,
          0.00005144358422816924,
          0.000049326102298323026,
          0.00004729841311524522,
          0.00004535661048979235,
          0.000043496961399710735,
          0.00004171589825504004,
          0.0000400100115042152,
          0.00003837604256674464,
          0.00003681087707882154,
          0.000035311538438702195,
          0.00003387518163915391,
          0.000032499087374738055,
          0.00003118065641214741,
          0.000029917404212263075,
          0.000028706955793030296,
          0.00002754704082267654,
          0.000026435488933210315,
          0.00002537022524453755,
          0.000024349266089927165,
          0.000023370714933930245,
          0.000022432758474228453,
          0.000021533662919238484,
          0.000020671770433642097,
          0.000019845495744343292,
          0.000019053322899670376,
          0.000018293802174950447,
          0.000017565547117877396,
          0.000016867231727380536,
          0.000016197587759973922,
          0.00001555540215783007,
          0.000014939514593073396,
          0.000014348815123033285,
          0.000013782241951426694,
          0.000013238779290666246,
          0.000012717455320701743,
          0.000012217340240009562,
          0.0000117375444045396,
          0.000011277216550619413,
          0.000010835542097993396,
          0.000010411741529348911,
          0.000010005068842845327
         ]
        }
       ],
       "layout": {
        "height": 500,
        "template": {
         "data": {
          "bar": [
           {
            "error_x": {
             "color": "#2a3f5f"
            },
            "error_y": {
             "color": "#2a3f5f"
            },
            "marker": {
             "line": {
              "color": "#E5ECF6",
              "width": 0.5
             },
             "pattern": {
              "fillmode": "overlay",
              "size": 10,
              "solidity": 0.2
             }
            },
            "type": "bar"
           }
          ],
          "barpolar": [
           {
            "marker": {
             "line": {
              "color": "#E5ECF6",
              "width": 0.5
             },
             "pattern": {
              "fillmode": "overlay",
              "size": 10,
              "solidity": 0.2
             }
            },
            "type": "barpolar"
           }
          ],
          "carpet": [
           {
            "aaxis": {
             "endlinecolor": "#2a3f5f",
             "gridcolor": "white",
             "linecolor": "white",
             "minorgridcolor": "white",
             "startlinecolor": "#2a3f5f"
            },
            "baxis": {
             "endlinecolor": "#2a3f5f",
             "gridcolor": "white",
             "linecolor": "white",
             "minorgridcolor": "white",
             "startlinecolor": "#2a3f5f"
            },
            "type": "carpet"
           }
          ],
          "choropleth": [
           {
            "colorbar": {
             "outlinewidth": 0,
             "ticks": ""
            },
            "type": "choropleth"
           }
          ],
          "contour": [
           {
            "colorbar": {
             "outlinewidth": 0,
             "ticks": ""
            },
            "colorscale": [
             [
              0,
              "#0d0887"
             ],
             [
              0.1111111111111111,
              "#46039f"
             ],
             [
              0.2222222222222222,
              "#7201a8"
             ],
             [
              0.3333333333333333,
              "#9c179e"
             ],
             [
              0.4444444444444444,
              "#bd3786"
             ],
             [
              0.5555555555555556,
              "#d8576b"
             ],
             [
              0.6666666666666666,
              "#ed7953"
             ],
             [
              0.7777777777777778,
              "#fb9f3a"
             ],
             [
              0.8888888888888888,
              "#fdca26"
             ],
             [
              1,
              "#f0f921"
             ]
            ],
            "type": "contour"
           }
          ],
          "contourcarpet": [
           {
            "colorbar": {
             "outlinewidth": 0,
             "ticks": ""
            },
            "type": "contourcarpet"
           }
          ],
          "heatmap": [
           {
            "colorbar": {
             "outlinewidth": 0,
             "ticks": ""
            },
            "colorscale": [
             [
              0,
              "#0d0887"
             ],
             [
              0.1111111111111111,
              "#46039f"
             ],
             [
              0.2222222222222222,
              "#7201a8"
             ],
             [
              0.3333333333333333,
              "#9c179e"
             ],
             [
              0.4444444444444444,
              "#bd3786"
             ],
             [
              0.5555555555555556,
              "#d8576b"
             ],
             [
              0.6666666666666666,
              "#ed7953"
             ],
             [
              0.7777777777777778,
              "#fb9f3a"
             ],
             [
              0.8888888888888888,
              "#fdca26"
             ],
             [
              1,
              "#f0f921"
             ]
            ],
            "type": "heatmap"
           }
          ],
          "heatmapgl": [
           {
            "colorbar": {
             "outlinewidth": 0,
             "ticks": ""
            },
            "colorscale": [
             [
              0,
              "#0d0887"
             ],
             [
              0.1111111111111111,
              "#46039f"
             ],
             [
              0.2222222222222222,
              "#7201a8"
             ],
             [
              0.3333333333333333,
              "#9c179e"
             ],
             [
              0.4444444444444444,
              "#bd3786"
             ],
             [
              0.5555555555555556,
              "#d8576b"
             ],
             [
              0.6666666666666666,
              "#ed7953"
             ],
             [
              0.7777777777777778,
              "#fb9f3a"
             ],
             [
              0.8888888888888888,
              "#fdca26"
             ],
             [
              1,
              "#f0f921"
             ]
            ],
            "type": "heatmapgl"
           }
          ],
          "histogram": [
           {
            "marker": {
             "pattern": {
              "fillmode": "overlay",
              "size": 10,
              "solidity": 0.2
             }
            },
            "type": "histogram"
           }
          ],
          "histogram2d": [
           {
            "colorbar": {
             "outlinewidth": 0,
             "ticks": ""
            },
            "colorscale": [
             [
              0,
              "#0d0887"
             ],
             [
              0.1111111111111111,
              "#46039f"
             ],
             [
              0.2222222222222222,
              "#7201a8"
             ],
             [
              0.3333333333333333,
              "#9c179e"
             ],
             [
              0.4444444444444444,
              "#bd3786"
             ],
             [
              0.5555555555555556,
              "#d8576b"
             ],
             [
              0.6666666666666666,
              "#ed7953"
             ],
             [
              0.7777777777777778,
              "#fb9f3a"
             ],
             [
              0.8888888888888888,
              "#fdca26"
             ],
             [
              1,
              "#f0f921"
             ]
            ],
            "type": "histogram2d"
           }
          ],
          "histogram2dcontour": [
           {
            "colorbar": {
             "outlinewidth": 0,
             "ticks": ""
            },
            "colorscale": [
             [
              0,
              "#0d0887"
             ],
             [
              0.1111111111111111,
              "#46039f"
             ],
             [
              0.2222222222222222,
              "#7201a8"
             ],
             [
              0.3333333333333333,
              "#9c179e"
             ],
             [
              0.4444444444444444,
              "#bd3786"
             ],
             [
              0.5555555555555556,
              "#d8576b"
             ],
             [
              0.6666666666666666,
              "#ed7953"
             ],
             [
              0.7777777777777778,
              "#fb9f3a"
             ],
             [
              0.8888888888888888,
              "#fdca26"
             ],
             [
              1,
              "#f0f921"
             ]
            ],
            "type": "histogram2dcontour"
           }
          ],
          "mesh3d": [
           {
            "colorbar": {
             "outlinewidth": 0,
             "ticks": ""
            },
            "type": "mesh3d"
           }
          ],
          "parcoords": [
           {
            "line": {
             "colorbar": {
              "outlinewidth": 0,
              "ticks": ""
             }
            },
            "type": "parcoords"
           }
          ],
          "pie": [
           {
            "automargin": true,
            "type": "pie"
           }
          ],
          "scatter": [
           {
            "fillpattern": {
             "fillmode": "overlay",
             "size": 10,
             "solidity": 0.2
            },
            "type": "scatter"
           }
          ],
          "scatter3d": [
           {
            "line": {
             "colorbar": {
              "outlinewidth": 0,
              "ticks": ""
             }
            },
            "marker": {
             "colorbar": {
              "outlinewidth": 0,
              "ticks": ""
             }
            },
            "type": "scatter3d"
           }
          ],
          "scattercarpet": [
           {
            "marker": {
             "colorbar": {
              "outlinewidth": 0,
              "ticks": ""
             }
            },
            "type": "scattercarpet"
           }
          ],
          "scattergeo": [
           {
            "marker": {
             "colorbar": {
              "outlinewidth": 0,
              "ticks": ""
             }
            },
            "type": "scattergeo"
           }
          ],
          "scattergl": [
           {
            "marker": {
             "colorbar": {
              "outlinewidth": 0,
              "ticks": ""
             }
            },
            "type": "scattergl"
           }
          ],
          "scattermapbox": [
           {
            "marker": {
             "colorbar": {
              "outlinewidth": 0,
              "ticks": ""
             }
            },
            "type": "scattermapbox"
           }
          ],
          "scatterpolar": [
           {
            "marker": {
             "colorbar": {
              "outlinewidth": 0,
              "ticks": ""
             }
            },
            "type": "scatterpolar"
           }
          ],
          "scatterpolargl": [
           {
            "marker": {
             "colorbar": {
              "outlinewidth": 0,
              "ticks": ""
             }
            },
            "type": "scatterpolargl"
           }
          ],
          "scatterternary": [
           {
            "marker": {
             "colorbar": {
              "outlinewidth": 0,
              "ticks": ""
             }
            },
            "type": "scatterternary"
           }
          ],
          "surface": [
           {
            "colorbar": {
             "outlinewidth": 0,
             "ticks": ""
            },
            "colorscale": [
             [
              0,
              "#0d0887"
             ],
             [
              0.1111111111111111,
              "#46039f"
             ],
             [
              0.2222222222222222,
              "#7201a8"
             ],
             [
              0.3333333333333333,
              "#9c179e"
             ],
             [
              0.4444444444444444,
              "#bd3786"
             ],
             [
              0.5555555555555556,
              "#d8576b"
             ],
             [
              0.6666666666666666,
              "#ed7953"
             ],
             [
              0.7777777777777778,
              "#fb9f3a"
             ],
             [
              0.8888888888888888,
              "#fdca26"
             ],
             [
              1,
              "#f0f921"
             ]
            ],
            "type": "surface"
           }
          ],
          "table": [
           {
            "cells": {
             "fill": {
              "color": "#EBF0F8"
             },
             "line": {
              "color": "white"
             }
            },
            "header": {
             "fill": {
              "color": "#C8D4E3"
             },
             "line": {
              "color": "white"
             }
            },
            "type": "table"
           }
          ]
         },
         "layout": {
          "annotationdefaults": {
           "arrowcolor": "#2a3f5f",
           "arrowhead": 0,
           "arrowwidth": 1
          },
          "autotypenumbers": "strict",
          "coloraxis": {
           "colorbar": {
            "outlinewidth": 0,
            "ticks": ""
           }
          },
          "colorscale": {
           "diverging": [
            [
             0,
             "#8e0152"
            ],
            [
             0.1,
             "#c51b7d"
            ],
            [
             0.2,
             "#de77ae"
            ],
            [
             0.3,
             "#f1b6da"
            ],
            [
             0.4,
             "#fde0ef"
            ],
            [
             0.5,
             "#f7f7f7"
            ],
            [
             0.6,
             "#e6f5d0"
            ],
            [
             0.7,
             "#b8e186"
            ],
            [
             0.8,
             "#7fbc41"
            ],
            [
             0.9,
             "#4d9221"
            ],
            [
             1,
             "#276419"
            ]
           ],
           "sequential": [
            [
             0,
             "#0d0887"
            ],
            [
             0.1111111111111111,
             "#46039f"
            ],
            [
             0.2222222222222222,
             "#7201a8"
            ],
            [
             0.3333333333333333,
             "#9c179e"
            ],
            [
             0.4444444444444444,
             "#bd3786"
            ],
            [
             0.5555555555555556,
             "#d8576b"
            ],
            [
             0.6666666666666666,
             "#ed7953"
            ],
            [
             0.7777777777777778,
             "#fb9f3a"
            ],
            [
             0.8888888888888888,
             "#fdca26"
            ],
            [
             1,
             "#f0f921"
            ]
           ],
           "sequentialminus": [
            [
             0,
             "#0d0887"
            ],
            [
             0.1111111111111111,
             "#46039f"
            ],
            [
             0.2222222222222222,
             "#7201a8"
            ],
            [
             0.3333333333333333,
             "#9c179e"
            ],
            [
             0.4444444444444444,
             "#bd3786"
            ],
            [
             0.5555555555555556,
             "#d8576b"
            ],
            [
             0.6666666666666666,
             "#ed7953"
            ],
            [
             0.7777777777777778,
             "#fb9f3a"
            ],
            [
             0.8888888888888888,
             "#fdca26"
            ],
            [
             1,
             "#f0f921"
            ]
           ]
          },
          "colorway": [
           "#636efa",
           "#EF553B",
           "#00cc96",
           "#ab63fa",
           "#FFA15A",
           "#19d3f3",
           "#FF6692",
           "#B6E880",
           "#FF97FF",
           "#FECB52"
          ],
          "font": {
           "color": "#2a3f5f"
          },
          "geo": {
           "bgcolor": "white",
           "lakecolor": "white",
           "landcolor": "#E5ECF6",
           "showlakes": true,
           "showland": true,
           "subunitcolor": "white"
          },
          "hoverlabel": {
           "align": "left"
          },
          "hovermode": "closest",
          "mapbox": {
           "style": "light"
          },
          "paper_bgcolor": "white",
          "plot_bgcolor": "#E5ECF6",
          "polar": {
           "angularaxis": {
            "gridcolor": "white",
            "linecolor": "white",
            "ticks": ""
           },
           "bgcolor": "#E5ECF6",
           "radialaxis": {
            "gridcolor": "white",
            "linecolor": "white",
            "ticks": ""
           }
          },
          "scene": {
           "xaxis": {
            "backgroundcolor": "#E5ECF6",
            "gridcolor": "white",
            "gridwidth": 2,
            "linecolor": "white",
            "showbackground": true,
            "ticks": "",
            "zerolinecolor": "white"
           },
           "yaxis": {
            "backgroundcolor": "#E5ECF6",
            "gridcolor": "white",
            "gridwidth": 2,
            "linecolor": "white",
            "showbackground": true,
            "ticks": "",
            "zerolinecolor": "white"
           },
           "zaxis": {
            "backgroundcolor": "#E5ECF6",
            "gridcolor": "white",
            "gridwidth": 2,
            "linecolor": "white",
            "showbackground": true,
            "ticks": "",
            "zerolinecolor": "white"
           }
          },
          "shapedefaults": {
           "line": {
            "color": "#2a3f5f"
           }
          },
          "ternary": {
           "aaxis": {
            "gridcolor": "white",
            "linecolor": "white",
            "ticks": ""
           },
           "baxis": {
            "gridcolor": "white",
            "linecolor": "white",
            "ticks": ""
           },
           "bgcolor": "#E5ECF6",
           "caxis": {
            "gridcolor": "white",
            "linecolor": "white",
            "ticks": ""
           }
          },
          "title": {
           "x": 0.05
          },
          "xaxis": {
           "automargin": true,
           "gridcolor": "white",
           "linecolor": "white",
           "ticks": "",
           "title": {
            "standoff": 15
           },
           "zerolinecolor": "white",
           "zerolinewidth": 2
          },
          "yaxis": {
           "automargin": true,
           "gridcolor": "white",
           "linecolor": "white",
           "ticks": "",
           "title": {
            "standoff": 15
           },
           "zerolinecolor": "white",
           "zerolinewidth": 2
          }
         }
        },
        "title": {
         "text": "🆚 Gumbel vs GEV: Which Fits Better?"
        },
        "xaxis": {
         "title": {
          "text": "Peak Flow (m³/s)"
         }
        },
        "yaxis": {
         "title": {
          "text": "Probability Density"
         }
        }
       }
      }
     },
     "metadata": {},
     "output_type": "display_data"
    },
    {
     "name": "stdout",
     "output_type": "stream",
     "text": [
      "\n",
      "🏆 Which model is better?\n",
      "Gumbel fit quality: -295.1\n",
      "GEV fit quality: -295.0\n",
      "✅ GEV is slightly better, but both are reasonable\n",
      "\n",
      "💡 For this data, shape parameter = 0.037\n",
      "   This is close to Gumbel - both methods give similar results\n"
     ]
    }
   ],
   "source": [
    "# Fit both Gumbel and GEV to the same data\n",
    "print(\"🔧 Fitting both distributions to our flood data...\")\n",
    "\n",
    "# Fit Gumbel (your familiar method)\n",
    "gumbel_params = stats.gumbel_r.fit(flood_flows)\n",
    "gumbel_loc, gumbel_scale = gumbel_params\n",
    "\n",
    "# Fit GEV (the improved method) - already done above\n",
    "# gev_params already calculated\n",
    "\n",
    "print(\"\\n📊 Parameter Comparison:\")\n",
    "print(f\"Gumbel:  Location = {gumbel_loc:.1f}, Scale = {gumbel_scale:.1f}, Shape = 0 (fixed)\")\n",
    "print(f\"GEV:     Location = {location:.1f}, Scale = {scale:.1f}, Shape = {shape:.3f} (flexible)\")\n",
    "\n",
    "# Visual comparison\n",
    "fig = go.Figure()\n",
    "\n",
    "# Our data\n",
    "fig.add_trace(go.Histogram(\n",
    "    x=flood_flows, nbinsx=12, histnorm='probability density',\n",
    "    name='📊 Our Data', opacity=0.6, marker_color='lightgray'\n",
    "))\n",
    "\n",
    "# Gumbel fit\n",
    "x_range = np.linspace(min(flood_flows)*0.8, max(flood_flows)*1.3, 200)\n",
    "gumbel_pdf = stats.gumbel_r.pdf(x_range, *gumbel_params)\n",
    "gev_pdf = stats.genextreme.pdf(x_range, *gev_params)\n",
    "\n",
    "fig.add_trace(go.Scatter(\n",
    "    x=x_range, y=gumbel_pdf, mode='lines',\n",
    "    name='🔵 Gumbel', line=dict(color='blue', width=3)\n",
    "))\n",
    "\n",
    "fig.add_trace(go.Scatter(\n",
    "    x=x_range, y=gev_pdf, mode='lines',\n",
    "    name='🔴 GEV', line=dict(color='red', width=3)\n",
    "))\n",
    "\n",
    "fig.update_layout(\n",
    "    title='🆚 Gumbel vs GEV: Which Fits Better?',\n",
    "    xaxis_title='Peak Flow (m³/s)',\n",
    "    yaxis_title='Probability Density',\n",
    "    height=500\n",
    ")\n",
    "\n",
    "fig.show()\n",
    "\n",
    "# Simple fit comparison\n",
    "gumbel_ll = np.sum(stats.gumbel_r.logpdf(flood_flows, *gumbel_params))\n",
    "gev_ll = np.sum(stats.genextreme.logpdf(flood_flows, *gev_params))\n",
    "\n",
    "print(\"\\n🏆 Which model is better?\")\n",
    "print(f\"Gumbel fit quality: {gumbel_ll:.1f}\")\n",
    "print(f\"GEV fit quality: {gev_ll:.1f}\")\n",
    "\n",
    "if gev_ll > gumbel_ll + 2:  # Significant improvement\n",
    "    print(\"✅ GEV is clearly better! The flexibility helps.\")\n",
    "elif gev_ll > gumbel_ll:\n",
    "    print(\"✅ GEV is slightly better, but both are reasonable\")\n",
    "else:\n",
    "    print(\"📊 Both are similar - Gumbel is adequate\")\n",
    "\n",
    "print(f\"\\n💡 For this data, shape parameter = {shape:.3f}\")\n",
    "if abs(shape) > 0.1:\n",
    "    print(\"   This is significantly different from Gumbel - GEV captures important pattern!\")\n",
    "else:\n",
    "    print(\"   This is close to Gumbel - both methods give similar results\")"
   ]
  },
  {
   "cell_type": "markdown",
   "metadata": {},
   "source": [
    "---\n",
    "\n",
    "# 🏗️ Part 5: Engineering Applications\n",
    "\n",
    "## Calculate Design Events\n",
    "\n",
    "This is the **most important part** for engineers - calculating the flood magnitudes for design!"
   ]
  },
  {
   "cell_type": "code",
   "execution_count": 21,
   "metadata": {},
   "outputs": [
    {
     "name": "stdout",
     "output_type": "stream",
     "text": [
      "🎯 DESIGN EVENT COMPARISON\n",
      "==================================================\n",
      "Return Period Gumbel     GEV        Difference  \n",
      "--------------------------------------------------\n",
      "     5 years       352        352          +0 m³/s\n",
      "    10 years       408        412          +4 m³/s\n",
      "    25 years       479        489         +10 m³/s\n",
      "    50 years       532        549         +17 m³/s\n",
      "   100 years       584        609         +25 m³/s\n",
      "--------------------------------------------------\n",
      "\n",
      "📊 Maximum difference: 4.3%\n",
      "✅ Small differences - either method is reasonable\n",
      "\n",
      "🏗️  ENGINEERING APPLICATIONS:\n",
      "🏠 Residential culvert    : Gumbel = 408, GEV = 412 (+4) m³/s\n",
      "🏢 Commercial bridge      : Gumbel = 532, GEV = 549 (+17) m³/s\n",
      "🏥 Hospital drainage      : Gumbel = 584, GEV = 609 (+25) m³/s\n"
     ]
    }
   ],
   "source": [
    "# Calculate design events for both Gumbel and GEV\n",
    "print(\"🎯 DESIGN EVENT COMPARISON\")\n",
    "print(\"=\" * 50)\n",
    "\n",
    "# Standard return periods\n",
    "return_periods = [5, 10, 25, 50, 100]\n",
    "\n",
    "print(f\"{'Return Period':<12} {'Gumbel':<10} {'GEV':<10} {'Difference':<12}\")\n",
    "print(\"-\" * 50)\n",
    "\n",
    "results = []\n",
    "for T in return_periods:\n",
    "    prob = 1 - 1/T  # Non-exceedance probability\n",
    "    \n",
    "    # Calculate design values\n",
    "    gumbel_value = stats.gumbel_r.ppf(prob, *gumbel_params)\n",
    "    gev_value = stats.genextreme.ppf(prob, *gev_params)\n",
    "    difference = gev_value - gumbel_value\n",
    "    \n",
    "    results.append({\n",
    "        'T': T,\n",
    "        'Gumbel': gumbel_value,\n",
    "        'GEV': gev_value,\n",
    "        'Diff': difference\n",
    "    })\n",
    "    \n",
    "    print(f\"{T:>6} years    {gumbel_value:>6.0f}     {gev_value:>6.0f}     {difference:>+7.0f} m³/s\")\n",
    "\n",
    "print(\"-\" * 50)\n",
    "\n",
    "# Engineering interpretation\n",
    "max_diff_percent = max([abs(r['Diff']/r['Gumbel']*100) for r in results])\n",
    "print(f\"\\n📊 Maximum difference: {max_diff_percent:.1f}%\")\n",
    "\n",
    "if max_diff_percent > 15:\n",
    "    print(\"⚠️  SIGNIFICANT DIFFERENCES! GEV analysis is important for this data.\")\n",
    "    print(\"   Using wrong distribution could lead to unsafe or uneconomical design.\")\n",
    "elif max_diff_percent > 5:\n",
    "    print(\"📊 Moderate differences - GEV provides improved accuracy\")\n",
    "else:\n",
    "    print(\"✅ Small differences - either method is reasonable\")\n",
    "\n",
    "# Show specific engineering applications\n",
    "print(\"\\n🏗️  ENGINEERING APPLICATIONS:\")\n",
    "applications = [\n",
    "    (\"🏠 Residential culvert\", 10),\n",
    "    (\"🏢 Commercial bridge\", 50), \n",
    "    (\"🏥 Hospital drainage\", 100)\n",
    "]\n",
    "\n",
    "for facility, T in applications:\n",
    "    gumbel_val = stats.gumbel_r.ppf(1-1/T, *gumbel_params)\n",
    "    gev_val = stats.genextreme.ppf(1-1/T, *gev_params)\n",
    "    diff = gev_val - gumbel_val\n",
    "    \n",
    "    print(f\"{facility:<25}: Gumbel = {gumbel_val:.0f}, GEV = {gev_val:.0f} ({diff:+.0f}) m³/s\")"
   ]
  },
  {
   "cell_type": "markdown",
   "metadata": {},
   "source": [
    "## 📊 Visual Comparison of Design Events"
   ]
  },
  {
   "cell_type": "code",
   "execution_count": 22,
   "metadata": {},
   "outputs": [
    {
     "data": {
      "image/png": "[encoded data removed]",
      "text/plain": [
       "<Figure size 1500x600 with 2 Axes>"
      ]
     },
     "metadata": {},
     "output_type": "display_data"
    },
    {
     "name": "stdout",
     "output_type": "stream",
     "text": [
      "\n",
      "📋 SUMMARY TABLE:\n",
      "Return Period   Gumbel      GEV Difference % Difference\n",
      "      5 years 352 m³/s 352 m³/s    +0 m³/s        +0.1%\n",
      "     10 years 408 m³/s 412 m³/s    +4 m³/s        +0.9%\n",
      "     25 years 479 m³/s 489 m³/s   +10 m³/s        +2.1%\n",
      "     50 years 532 m³/s 549 m³/s   +17 m³/s        +3.2%\n",
      "    100 years 584 m³/s 609 m³/s   +25 m³/s        +4.3%\n"
     ]
    }
   ],
   "source": [
    "# Create side-by-side comparison plot\n",
    "fig, (ax1, ax2) = plt.subplots(1, 2, figsize=(15, 6))\n",
    "\n",
    "# Return period plot\n",
    "T_range = np.logspace(0.5, 2.5, 50)  # 3 to 300 years\n",
    "prob_range = 1 - 1/T_range\n",
    "\n",
    "gumbel_design = stats.gumbel_r.ppf(prob_range, *gumbel_params)\n",
    "gev_design = stats.genextreme.ppf(prob_range, *gev_params)\n",
    "\n",
    "ax1.semilogx(T_range, gumbel_design, '-', linewidth=3, color='blue', label='Gumbel')\n",
    "ax1.semilogx(T_range, gev_design, '-', linewidth=3, color='red', label='GEV')\n",
    "\n",
    "# Mark key design events\n",
    "for T in [10, 50, 100]:\n",
    "    gumbel_val = stats.gumbel_r.ppf(1-1/T, *gumbel_params)\n",
    "    gev_val = stats.genextreme.ppf(1-1/T, *gev_params)\n",
    "    \n",
    "    ax1.plot(T, gumbel_val, 'o', markersize=10, color='blue', markeredgecolor='white', markeredgewidth=2)\n",
    "    ax1.plot(T, gev_val, 's', markersize=10, color='red', markeredgecolor='white', markeredgewidth=2)\n",
    "    \n",
    "    # Add labels\n",
    "    ax1.annotate(f'{T}yr', xy=(T, max(gumbel_val, gev_val)), xytext=(0, 10),\n",
    "                textcoords='offset points', ha='center', fontweight='bold')\n",
    "\n",
    "ax1.set_title('🎯 Design Events: Gumbel vs GEV', fontweight='bold')\n",
    "ax1.set_xlabel('Return Period (years)')\n",
    "ax1.set_ylabel('Design Flow (m³/s)')\n",
    "ax1.legend()\n",
    "ax1.grid(True, alpha=0.3)\n",
    "\n",
    "# Difference plot\n",
    "differences = gev_design - gumbel_design\n",
    "ax2.semilogx(T_range, differences, '-', linewidth=3, color='purple')\n",
    "ax2.axhline(y=0, color='black', linestyle='--', alpha=0.5)\n",
    "\n",
    "ax2.set_title('📊 Difference (GEV - Gumbel)', fontweight='bold')\n",
    "ax2.set_xlabel('Return Period (years)')\n",
    "ax2.set_ylabel('Flow Difference (m³/s)')\n",
    "ax2.grid(True, alpha=0.3)\n",
    "\n",
    "# Add interpretation\n",
    "if np.mean(differences) > 10:\n",
    "    ax2.text(0.5, 0.8, 'GEV > Gumbel\\n(More conservative)', \n",
    "             transform=ax2.transAxes, ha='center', va='center',\n",
    "             bbox=dict(boxstyle=\"round,pad=0.3\", facecolor='red', alpha=0.3))\n",
    "elif np.mean(differences) < -10:\n",
    "    ax2.text(0.5, 0.8, 'GEV < Gumbel\\n(Less conservative)', \n",
    "             transform=ax2.transAxes, ha='center', va='center',\n",
    "             bbox=dict(boxstyle=\"round,pad=0.3\", facecolor='green', alpha=0.3))\n",
    "else:\n",
    "    ax2.text(0.5, 0.8, 'Similar Results\\n(Both OK)', \n",
    "             transform=ax2.transAxes, ha='center', va='center',\n",
    "             bbox=dict(boxstyle=\"round,pad=0.3\", facecolor='blue', alpha=0.3))\n",
    "\n",
    "plt.tight_layout()\n",
    "plt.show()\n",
    "\n",
    "# Summary table\n",
    "print(\"\\n📋 SUMMARY TABLE:\")\n",
    "summary_data = []\n",
    "for r in results:\n",
    "    summary_data.append({\n",
    "        'Return Period': f\"{r['T']} years\",\n",
    "        'Gumbel': f\"{r['Gumbel']:.0f} m³/s\",\n",
    "        'GEV': f\"{r['GEV']:.0f} m³/s\",\n",
    "        'Difference': f\"{r['Diff']:+.0f} m³/s\",\n",
    "        '% Difference': f\"{r['Diff']/r['Gumbel']*100:+.1f}%\"\n",
    "    })\n",
    "\n",
    "summary_df = pd.DataFrame(summary_data)\n",
    "print(summary_df.to_string(index=False))"
   ]
  },
  {
   "cell_type": "markdown",
   "metadata": {},
   "source": [
    "---\n",
    "\n",
    "# 🎯 Part 6: Engineering Decision Making\n",
    "\n",
    "## When Should You Use GEV vs Gumbel?\n",
    "\n",
    "Here's a **practical guide** for real engineering projects:"
   ]
  },
  {
   "cell_type": "code",
   "execution_count": 23,
   "metadata": {},
   "outputs": [
    {
     "name": "stdout",
     "output_type": "stream",
     "text": [
      "🤔 WHEN TO USE GEV vs GUMBEL\n",
      "============================================================\n",
      "\n",
      "YOUR DATA ANALYSIS:\n",
      "• Shape parameter magnitude: 0.037\n",
      "• Maximum design difference: 4.3%\n",
      "• Distribution type: 🔵 Gumbel-like (Medium Tail)\n",
      "\n",
      "📊 RECOMMENDATION FOR YOUR DATA:\n",
      "   🟢 EITHER OK\n",
      "   Reason: Similar results - choose based on other factors\n",
      "   Accuracy improvement: Low\n",
      "\n",
      "🎯 GENERAL DECISION FRAMEWORK:\n",
      "\n",
      "USE GEV WHEN:\n",
      "   ✅ 🏥 Critical infrastructure (hospitals, dams)\n",
      "   ✅ 📏 Long return periods (100+ years)\n",
      "   ✅ 📊 Data shows heavy skewness\n",
      "   ✅ 💰 High economic consequences\n",
      "   ✅ 📋 Professional standards require it\n",
      "\n",
      "GUMBEL STILL OK WHEN:\n",
      "   ✅ 🏠 Standard infrastructure (small culverts)\n",
      "   ✅ ⚡ Quick preliminary analysis\n",
      "   ✅ 📊 Data fits Gumbel reasonably well\n",
      "   ✅ ⏰ Time/resource constraints\n",
      "   ✅ 📚 Educational or comparative purposes\n",
      "\n",
      "💡 BOTTOM LINE: GEV is more accurate, Gumbel is simpler.\n",
      "   Choose based on your project's needs and importance!\n"
     ]
    }
   ],
   "source": [
    "# Decision making tool\n",
    "print(\"🤔 WHEN TO USE GEV vs GUMBEL\")\n",
    "print(\"=\" * 60)\n",
    "\n",
    "# Analyze our specific case\n",
    "shape_magnitude = abs(shape)\n",
    "max_design_diff = max([abs(r['Diff']/r['Gumbel']*100) for r in results])\n",
    "\n",
    "print(f\"\\nYOUR DATA ANALYSIS:\")\n",
    "print(f\"• Shape parameter magnitude: {shape_magnitude:.3f}\")\n",
    "print(f\"• Maximum design difference: {max_design_diff:.1f}%\")\n",
    "print(f\"• Distribution type: {gev_type}\")\n",
    "\n",
    "print(f\"\\n📊 RECOMMENDATION FOR YOUR DATA:\")\n",
    "\n",
    "if shape_magnitude > 0.15 or max_design_diff > 15:\n",
    "    recommendation = \"🔴 USE GEV\"\n",
    "    reason = \"Significant departure from Gumbel - accuracy matters\"\n",
    "    risk_level = \"High\"\n",
    "elif shape_magnitude > 0.05 or max_design_diff > 5:\n",
    "    recommendation = \"🟡 PREFER GEV\"\n",
    "    reason = \"Moderate improvement over Gumbel - worth the extra effort\"\n",
    "    risk_level = \"Medium\"\n",
    "else:\n",
    "    recommendation = \"🟢 EITHER OK\"\n",
    "    reason = \"Similar results - choose based on other factors\"\n",
    "    risk_level = \"Low\"\n",
    "\n",
    "print(f\"   {recommendation}\")\n",
    "print(f\"   Reason: {reason}\")\n",
    "print(f\"   Accuracy improvement: {risk_level}\")\n",
    "\n",
    "# General decision framework\n",
    "print(\"\\n🎯 GENERAL DECISION FRAMEWORK:\")\n",
    "print()\n",
    "print(\"USE GEV WHEN:\")\n",
    "gev_cases = [\n",
    "    \"🏥 Critical infrastructure (hospitals, dams)\",\n",
    "    \"📏 Long return periods (100+ years)\", \n",
    "    \"📊 Data shows heavy skewness\",\n",
    "    \"💰 High economic consequences\",\n",
    "    \"📋 Professional standards require it\"\n",
    "]\n",
    "for case in gev_cases:\n",
    "    print(f\"   ✅ {case}\")\n",
    "\n",
    "print(\"\\nGUMBEL STILL OK WHEN:\")\n",
    "gumbel_cases = [\n",
    "    \"🏠 Standard infrastructure (small culverts)\",\n",
    "    \"⚡ Quick preliminary analysis\",\n",
    "    \"📊 Data fits Gumbel reasonably well\",\n",
    "    \"⏰ Time/resource constraints\",\n",
    "    \"📚 Educational or comparative purposes\"\n",
    "]\n",
    "for case in gumbel_cases:\n",
    "    print(f\"   ✅ {case}\")\n",
    "\n",
    "print(f\"\\n💡 BOTTOM LINE: GEV is more accurate, Gumbel is simpler.\")\n",
    "print(f\"   Choose based on your project's needs and importance!\")"
   ]
  },
  {
   "cell_type": "markdown",
   "metadata": {},
   "source": [
    "## 🏗️ Real Engineering Example\n",
    "\n",
    "Let's solve a **real problem** using our GEV analysis!"
   ]
  },
  {
   "cell_type": "code",
   "execution_count": 24,
   "metadata": {},
   "outputs": [
    {
     "name": "stdout",
     "output_type": "stream",
     "text": [
      "🌉 ENGINEERING CASE STUDY\n",
      "==================================================\n",
      "Problem: Design a bridge for 50-year service life\n",
      "Question: What design flood should we use?\n",
      "==================================================\n",
      "\n",
      "DESIGN OPTIONS ANALYSIS (for 50-year bridge life):\n",
      "Design T   GEV Flow     Lifetime Risk   Recommendation      \n",
      "-----------------------------------------------------------------\n",
      "    25 years        489 m³/s         87.0%        ❌ High risk         \n",
      "    50 years        549 m³/s         63.6%        ❌ High risk         \n",
      "   100 years        609 m³/s         39.5%        ✅ Acceptable        \n",
      "-----------------------------------------------------------------\n",
      "\n",
      "🎯 ENGINEERING RECOMMENDATION:\n",
      "   Design Event: 50-year flood\n",
      "   Design Flow: 549 m³/s\n",
      "   50-year Risk: 63.6%\n",
      "   Status: Acceptable for bridge infrastructure\n",
      "\n",
      "⚖️  GEV vs GUMBEL IMPACT:\n",
      "   GEV design: 549 m³/s\n",
      "   Gumbel design: 532 m³/s\n",
      "   Difference: +17 m³/s (+3.2%)\n",
      "   💡 Small difference - either method would work\n",
      "\n",
      "✅ Case study complete! You now know how to apply GEV to real problems.\n"
     ]
    }
   ],
   "source": [
    "# Engineering case study\n",
    "print(\"🌉 ENGINEERING CASE STUDY\")\n",
    "print(\"=\" * 50)\n",
    "print(\"Problem: Design a bridge for 50-year service life\")\n",
    "print(\"Question: What design flood should we use?\")\n",
    "print(\"=\" * 50)\n",
    "\n",
    "# Consider different design options\n",
    "design_options = [25, 50, 100]\n",
    "service_life = 50\n",
    "\n",
    "print(f\"\\nDESIGN OPTIONS ANALYSIS (for {service_life}-year bridge life):\")\n",
    "print(f\"{'Design T':<10} {'GEV Flow':<12} {'Lifetime Risk':<15} {'Recommendation':<20}\")\n",
    "print(\"-\" * 65)\n",
    "\n",
    "for T in design_options:\n",
    "    # Calculate design flow using GEV\n",
    "    design_flow = stats.genextreme.ppf(1-1/T, *gev_params)\n",
    "    \n",
    "    # Calculate lifetime risk\n",
    "    annual_risk = 1/T\n",
    "    lifetime_risk = 1 - (1 - annual_risk)**service_life\n",
    "    \n",
    "    # Engineering recommendation\n",
    "    if lifetime_risk < 0.2:\n",
    "        rec = \"✅ Conservative\"\n",
    "    elif lifetime_risk < 0.4:\n",
    "        rec = \"✅ Acceptable\"\n",
    "    elif lifetime_risk < 0.6:\n",
    "        rec = \"⚠️  Moderate risk\"\n",
    "    else:\n",
    "        rec = \"❌ High risk\"\n",
    "    \n",
    "    print(f\"{T:>6} years   {design_flow:>8.0f} m³/s    {lifetime_risk:>10.1%}        {rec:<20}\")\n",
    "\n",
    "print(\"-\" * 65)\n",
    "\n",
    "# Make recommendation based on GEV analysis\n",
    "recommended_T = 50  # Standard for bridges\n",
    "recommended_flow = stats.genextreme.ppf(1-1/recommended_T, *gev_params)\n",
    "recommended_risk = 1 - (1 - 1/recommended_T)**service_life\n",
    "\n",
    "print(f\"\\n🎯 ENGINEERING RECOMMENDATION:\")\n",
    "print(f\"   Design Event: {recommended_T}-year flood\")\n",
    "print(f\"   Design Flow: {recommended_flow:.0f} m³/s\")\n",
    "print(f\"   {service_life}-year Risk: {recommended_risk:.1%}\")\n",
    "print(f\"   Status: Acceptable for bridge infrastructure\")\n",
    "\n",
    "# Show impact of GEV vs Gumbel choice\n",
    "gumbel_flow = stats.gumbel_r.ppf(1-1/recommended_T, *gumbel_params)\n",
    "flow_difference = recommended_flow - gumbel_flow\n",
    "\n",
    "print(f\"\\n⚖️  GEV vs GUMBEL IMPACT:\")\n",
    "print(f\"   GEV design: {recommended_flow:.0f} m³/s\")\n",
    "print(f\"   Gumbel design: {gumbel_flow:.0f} m³/s\")\n",
    "print(f\"   Difference: {flow_difference:+.0f} m³/s ({flow_difference/gumbel_flow*100:+.1f}%)\")\n",
    "\n",
    "if abs(flow_difference) > 20:\n",
    "    print(f\"   💡 Significant difference - GEV analysis was important!\")\n",
    "else:\n",
    "    print(f\"   💡 Small difference - either method would work\")\n",
    "\n",
    "print(f\"\\n✅ Case study complete! You now know how to apply GEV to real problems.\")"
   ]
  },
  {
   "cell_type": "markdown",
   "metadata": {},
   "source": [
    "---\n",
    "\n",
    "# 📊 Part 7: Export Your Results\n",
    "\n",
    "Create professional outputs for your engineering reports!"
   ]
  },
  {
   "cell_type": "code",
   "execution_count": 25,
   "metadata": {},
   "outputs": [
    {
     "name": "stdout",
     "output_type": "stream",
     "text": [
      "📋 CREATING PROFESSIONAL SUMMARY...\n",
      "\n",
      "📊 ENGINEERING DESIGN TABLE:\n",
      " Return Period (years) Annual Risk (%) Gumbel Design (m³/s) GEV Design (m³/s) Difference (m³/s)    Engineering Application\n",
      "                     5           20.00                  352               352                +0             Minor drainage\n",
      "                    10           10.00                  408               412                +4 Residential infrastructure\n",
      "                    25            4.00                  479               489               +10  Commercial infrastructure\n",
      "                    50            2.00                  532               549               +17          Important bridges\n",
      "                   100            1.00                  584               609               +25        Critical facilities\n",
      "\n",
      "🎯 GEV MODEL PARAMETERS:\n",
      "   Shape (ξ): 0.0369 → 🔵 Gumbel-like (Medium Tail)\n",
      "   Location (μ): 238.5 m³/s\n",
      "   Scale (σ): 73.9 m³/s\n",
      "\n",
      "🏗️  ENGINEERING CONCLUSIONS:\n",
      "   • Dataset: 50 years of annual maximum floods\n",
      "   • GEV type: Gumbel-like - Standard extreme behavior - like regular Gumbel\n",
      "   • Recommendation: Either GEV or Gumbel will work fine\n",
      "   • Key finding: EITHER for this dataset\n",
      "\n",
      "✅ Results saved to 'GEV_Analysis_Simple.xlsx'\n",
      "   📁 Contains: Original data, Design events, GEV parameters\n",
      "\n",
      "🎉 Analysis complete! You're ready to use GEV in real projects.\n"
     ]
    }
   ],
   "source": [
    "# Create summary for your engineering report\n",
    "print(\"📋 CREATING PROFESSIONAL SUMMARY...\")\n",
    "\n",
    "# Summary table for reports\n",
    "report_data = []\n",
    "for r in results:\n",
    "    report_data.append({\n",
    "        'Return Period (years)': r['T'],\n",
    "        'Annual Risk (%)': f\"{100/r['T']:.2f}\",\n",
    "        'Gumbel Design (m³/s)': f\"{r['Gumbel']:.0f}\",\n",
    "        'GEV Design (m³/s)': f\"{r['GEV']:.0f}\",\n",
    "        'Difference (m³/s)': f\"{r['Diff']:+.0f}\",\n",
    "        'Engineering Application': [\n",
    "            'Minor drainage',\n",
    "            'Residential infrastructure', \n",
    "            'Commercial infrastructure',\n",
    "            'Important bridges',\n",
    "            'Critical facilities'\n",
    "        ][return_periods.index(r['T'])]\n",
    "    })\n",
    "\n",
    "report_df = pd.DataFrame(report_data)\n",
    "print(\"\\n📊 ENGINEERING DESIGN TABLE:\")\n",
    "print(report_df.to_string(index=False))\n",
    "\n",
    "# Model parameters summary\n",
    "print(f\"\\n🎯 GEV MODEL PARAMETERS:\")\n",
    "print(f\"   Shape (ξ): {shape:.4f} → {gev_type}\")\n",
    "print(f\"   Location (μ): {location:.1f} m³/s\")\n",
    "print(f\"   Scale (σ): {scale:.1f} m³/s\")\n",
    "\n",
    "# Engineering conclusions\n",
    "print(f\"\\n🏗️  ENGINEERING CONCLUSIONS:\")\n",
    "print(f\"   • Dataset: {len(flood_flows)} years of annual maximum floods\")\n",
    "print(f\"   • GEV type: {gev_type.split()[1]} - {meaning}\")\n",
    "print(f\"   • Recommendation: {advice}\")\n",
    "print(f\"   • Key finding: {recommendation.split()[1]} for this dataset\")\n",
    "\n",
    "# Try to save to Excel\n",
    "try:\n",
    "    # Create Excel file with results\n",
    "    with pd.ExcelWriter('GEV_Analysis_Simple.xlsx') as writer:\n",
    "        flood_data.to_excel(writer, sheet_name='Original_Data', index=False)\n",
    "        report_df.to_excel(writer, sheet_name='Design_Events', index=False)\n",
    "        \n",
    "        # Parameters sheet\n",
    "        params_df = pd.DataFrame({\n",
    "            'Parameter': ['Shape (ξ)', 'Location (μ)', 'Scale (σ)'],\n",
    "            'Value': [shape, location, scale],\n",
    "            'Meaning': [\n",
    "                f'Controls tail behavior - {gev_type}',\n",
    "                'Central location of distribution',\n",
    "                'Spread/variability of distribution'\n",
    "            ]\n",
    "        })\n",
    "        params_df.to_excel(writer, sheet_name='GEV_Parameters', index=False)\n",
    "    \n",
    "    print(\"\\n✅ Results saved to 'GEV_Analysis_Simple.xlsx'\")\n",
    "    print(\"   📁 Contains: Original data, Design events, GEV parameters\")\n",
    "    \n",
    "except:\n",
    "    print(\"\\n📋 Excel export not available - but you have all results above!\")\n",
    "    print(\"   💡 Copy the tables above to create your own Excel file\")\n",
    "\n",
    "print(\"\\n🎉 Analysis complete! You're ready to use GEV in real projects.\")"
   ]
  },
  {
   "cell_type": "markdown",
   "metadata": {},
   "source": [
    "---\n",
    "\n",
    "# 🎓 Summary: What You Learned\n",
    "\n",
    "## 🏆 Congratulations! You now understand GEV analysis!\n",
    "\n",
    "### 🔑 **Key Concepts You Mastered:**\n",
    "\n",
    "1. **🔧 GEV = Flexible Gumbel**\n",
    "   - Same idea as Gumbel, but can adjust shape\n",
    "   - One extra parameter (ξ) gives this flexibility\n",
    "\n",
    "2. **🎛️ Shape Parameter Controls Everything**\n",
    "   - ξ > 0: Heavy tail (more extreme events)\n",
    "   - ξ = 0: Medium tail (standard Gumbel)\n",
    "   - ξ < 0: Light tail (limited extremes)\n",
    "\n",
    "3. **⚖️ When to Use Which Method**\n",
    "   - **Critical projects**: Use GEV for accuracy\n",
    "   - **Standard projects**: Gumbel often sufficient\n",
    "   - **Decision**: Based on consequences and data characteristics\n",
    "\n",
    "4. **💻 Python Implementation**\n",
    "   - `stats.genextreme.fit()` - fits GEV\n",
    "   - `stats.genextreme.ppf()` - calculates design events\n",
    "   - Compare with Gumbel using `stats.gumbel_r`\n",
    "\n",
    "---\n",
    "\n",
    "## 🚀 **Next Steps:**\n",
    "\n",
    "### **For Your Projects:**\n",
    "- Apply this to your capstone project data\n",
    "- Try with different types of extreme data (rainfall, wind, etc.)\n",
    "- Practice with local flood data from USGS\n",
    "\n",
    "### **For Professional Development:**\n",
    "- Learn about non-stationary GEV (climate change effects)\n",
    "- Explore confidence intervals and uncertainty\n",
    "- Study regulatory standards (Bulletin 17C, etc.)\n",
    "\n",
    "### **Advanced Topics (If Interested):**\n",
    "- Regional frequency analysis\n",
    "- Multivariate extreme values\n",
    "- Bayesian parameter estimation\n",
    "\n",
    "---\n",
    "\n",
    "## 📝 **Quick Reference:**\n",
    "\n",
    "```python\n",
    "# The essential GEV workflow:\n",
    "import scipy.stats as stats\n",
    "\n",
    "# 1. Fit GEV\n",
    "gev_params = stats.genextreme.fit(your_data)\n",
    "shape, location, scale = gev_params\n",
    "\n",
    "# 2. Check shape parameter\n",
    "xi = -shape  # Convert to hydrology convention\n",
    "if xi > 0: print(\"Heavy tail - be conservative\")\n",
    "elif xi < 0: print(\"Light tail - bounded extremes\")\n",
    "else: print(\"Gumbel-like behavior\")\n",
    "\n",
    "# 3. Calculate design events\n",
    "design_100yr = stats.genextreme.ppf(0.99, *gev_params)\n",
    "print(f\"100-year event: {design_100yr:.0f}\")\n",
    "```\n",
    "\n",
    "---\n",
    "\n",
    "## 🎉 **You Did It!**\n",
    "\n",
    "You now understand **GEV analysis** - a powerful tool for extreme value analysis in water resources engineering!\n",
    "\n",
    "**Remember:** \n",
    "- GEV is just Gumbel with adjustable shape\n",
    "- The shape parameter ξ is the key difference\n",
    "- Use GEV when accuracy matters for extreme events\n",
    "- Always check if the extra complexity is worth it for your project\n",
    "\n",
    "**🌊 Good luck with your water resources engineering projects! 🌊**\n",
    "\n",
    "---\n",
    "\n",
    "*Questions? Ask your instructor or TA! 📧*"
   ]
  }
 ],
 "metadata": {
  "kernelspec": {
   "display_name": "Python 3",
   "language": "python",
   "name": "python3"
  },
  "language_info": {
   "codemirror_mode": {
    "name": "ipython",
    "version": 3
   },
   "file_extension": ".py",
   "mimetype": "text/x-python",
   "name": "python",
   "nbconvert_exporter": "python",
   "pygments_lexer": "ipython3",
   "version": "3.8.5"
  }
 },
 "nbformat": 4,
 "nbformat_minor": 4
}
